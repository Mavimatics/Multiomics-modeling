{
 "cells": [
  {
   "cell_type": "markdown",
   "id": "53ad851c-e846-46f8-bfb0-bdcc5a8abb71",
   "metadata": {},
   "source": [
    "# Multiomics modeling"
   ]
  },
  {
   "cell_type": "markdown",
   "id": "056d3afb-59b4-485d-983d-a4fc4328edc5",
   "metadata": {},
   "source": [
    "Let's look at the paper *\"Multiomics modeling of the immunome, transcriptome, microbiome, proteome and metabolome adaptations during human pregnancy\"* by **Ghaemi et al. 2019** (`task1_multiomics_ghaemi2019multiomics.pdf`).\n",
    "The idea is to use different modalities (measurements collected from the immune system, microbiome, etc.) to characterize biological changes during pregnancy. \n",
    "This includes whether we can predict the gestational age of a mother solely based on the collected biomarkers.\n",
    "\n",
    "**Note**: There is no need to get accquainted with multiomics modeling, at least for this exercise. In the end, this is just a regular data science task :) "
   ]
  },
  {
   "cell_type": "markdown",
   "id": "4010abf9-7c7d-438e-99cf-1678b84962fe",
   "metadata": {},
   "source": [
    "## Load the data"
   ]
  },
  {
   "cell_type": "markdown",
   "id": "a012e941-6fb3-41f7-9f0e-1f4ebcec56ad",
   "metadata": {},
   "source": [
    "Load the data from `multiomics_data.pickle` using `pickle`. You will get a [pandas](https://pandas.pydata.org/docs/user_guide/10min.html) DataFrame containing preprocessed data from the paper (the original data from their paper is a bit messy). The data contains several meta attributes as well as the different modalities.\n",
    "\n",
    "Meta attributes include:\n",
    "\n",
    "* `Sex`: sex of the baby\n",
    "* `timepoint`: 1-3 correspond to the three trimesters, 4 corresponds to postpartum\n",
    "* `gestational_age`: time of sampling"
   ]
  },
  {
   "cell_type": "markdown",
   "id": "b33f1174-8326-4fb5-a5fa-649a41f64401",
   "metadata": {},
   "source": [
    "Modalites are:\n",
    "    \n",
    "* `cellfree_rna`\n",
    "* `metabolomics`\n",
    "* `microbiome`\n",
    "* `plasma_luminex`\n",
    "* `serum_luminex`\n",
    "* `immune_system`\n",
    "* `plasma_somalogic`"
   ]
  },
  {
   "cell_type": "markdown",
   "id": "1eafff87-3cc6-4571-aab3-45125c607f37",
   "metadata": {},
   "source": [
    "For more details pleaase see the paper."
   ]
  },
  {
   "cell_type": "code",
   "execution_count": 1,
   "id": "256a11a9-81de-478e-99e1-17e0a8a5a837",
   "metadata": {},
   "outputs": [
    {
     "data": {
      "text/html": [
       "<div>\n",
       "<style scoped>\n",
       "    .dataframe tbody tr th:only-of-type {\n",
       "        vertical-align: middle;\n",
       "    }\n",
       "\n",
       "    .dataframe tbody tr th {\n",
       "        vertical-align: top;\n",
       "    }\n",
       "\n",
       "    .dataframe thead tr th {\n",
       "        text-align: left;\n",
       "    }\n",
       "</style>\n",
       "<table border=\"1\" class=\"dataframe\">\n",
       "  <thead>\n",
       "    <tr>\n",
       "      <th></th>\n",
       "      <th>Training/Validation</th>\n",
       "      <th>Gates ID</th>\n",
       "      <th>MRN</th>\n",
       "      <th>Study Subject ID Number</th>\n",
       "      <th>Sex</th>\n",
       "      <th>sex_bin</th>\n",
       "      <th>timepoint</th>\n",
       "      <th>gestational_age</th>\n",
       "      <th colspan=\"2\" halign=\"left\">cellfree_rna</th>\n",
       "      <th>...</th>\n",
       "      <th colspan=\"10\" halign=\"left\">plasma_somalogic</th>\n",
       "    </tr>\n",
       "    <tr>\n",
       "      <th></th>\n",
       "      <th></th>\n",
       "      <th></th>\n",
       "      <th></th>\n",
       "      <th></th>\n",
       "      <th></th>\n",
       "      <th></th>\n",
       "      <th></th>\n",
       "      <th></th>\n",
       "      <th>0_C2orf76</th>\n",
       "      <th>1_ACTL10</th>\n",
       "      <th>...</th>\n",
       "      <th>1290_UBE2G2</th>\n",
       "      <th>1291_TAGLN2</th>\n",
       "      <th>1292_ATP5O</th>\n",
       "      <th>1293_POMC</th>\n",
       "      <th>1294_CRYZL1</th>\n",
       "      <th>1295_SERPINF1</th>\n",
       "      <th>1296_CTSF</th>\n",
       "      <th>1297_FTCD</th>\n",
       "      <th>1298_USP25</th>\n",
       "      <th>1299_PLXNB2</th>\n",
       "    </tr>\n",
       "  </thead>\n",
       "  <tbody>\n",
       "    <tr>\n",
       "      <th>0</th>\n",
       "      <td>T</td>\n",
       "      <td>PTLG002</td>\n",
       "      <td>16661779</td>\n",
       "      <td>10565</td>\n",
       "      <td>Male</td>\n",
       "      <td>1</td>\n",
       "      <td>1</td>\n",
       "      <td>11</td>\n",
       "      <td>0.312437</td>\n",
       "      <td>-1.892930e-16</td>\n",
       "      <td>...</td>\n",
       "      <td>4804.4</td>\n",
       "      <td>2233.0</td>\n",
       "      <td>3610.9</td>\n",
       "      <td>715.8</td>\n",
       "      <td>151.4</td>\n",
       "      <td>37885.8</td>\n",
       "      <td>1479.1</td>\n",
       "      <td>3261.8</td>\n",
       "      <td>561.3</td>\n",
       "      <td>3227.0</td>\n",
       "    </tr>\n",
       "    <tr>\n",
       "      <th>1</th>\n",
       "      <td>T</td>\n",
       "      <td>PTLG002</td>\n",
       "      <td>16661779</td>\n",
       "      <td>10565</td>\n",
       "      <td>Male</td>\n",
       "      <td>1</td>\n",
       "      <td>2</td>\n",
       "      <td>18</td>\n",
       "      <td>0.312437</td>\n",
       "      <td>-1.892930e-16</td>\n",
       "      <td>...</td>\n",
       "      <td>4086.0</td>\n",
       "      <td>2160.5</td>\n",
       "      <td>2260.4</td>\n",
       "      <td>825.2</td>\n",
       "      <td>161.0</td>\n",
       "      <td>41821.5</td>\n",
       "      <td>1465.1</td>\n",
       "      <td>1839.8</td>\n",
       "      <td>597.8</td>\n",
       "      <td>3366.0</td>\n",
       "    </tr>\n",
       "    <tr>\n",
       "      <th>2</th>\n",
       "      <td>T</td>\n",
       "      <td>PTLG002</td>\n",
       "      <td>16661779</td>\n",
       "      <td>10565</td>\n",
       "      <td>Male</td>\n",
       "      <td>1</td>\n",
       "      <td>3</td>\n",
       "      <td>32</td>\n",
       "      <td>0.312437</td>\n",
       "      <td>-1.892930e-16</td>\n",
       "      <td>...</td>\n",
       "      <td>4328.0</td>\n",
       "      <td>1818.4</td>\n",
       "      <td>2445.2</td>\n",
       "      <td>1241.8</td>\n",
       "      <td>194.6</td>\n",
       "      <td>45526.1</td>\n",
       "      <td>1428.3</td>\n",
       "      <td>3057.2</td>\n",
       "      <td>625.7</td>\n",
       "      <td>8703.7</td>\n",
       "    </tr>\n",
       "    <tr>\n",
       "      <th>3</th>\n",
       "      <td>T</td>\n",
       "      <td>PTLG002</td>\n",
       "      <td>16661779</td>\n",
       "      <td>10565</td>\n",
       "      <td>Male</td>\n",
       "      <td>1</td>\n",
       "      <td>4</td>\n",
       "      <td>45</td>\n",
       "      <td>0.312437</td>\n",
       "      <td>-1.892930e-16</td>\n",
       "      <td>...</td>\n",
       "      <td>3442.4</td>\n",
       "      <td>2661.4</td>\n",
       "      <td>3879.2</td>\n",
       "      <td>703.6</td>\n",
       "      <td>153.7</td>\n",
       "      <td>36862.5</td>\n",
       "      <td>1063.6</td>\n",
       "      <td>7339.7</td>\n",
       "      <td>593.2</td>\n",
       "      <td>2918.9</td>\n",
       "    </tr>\n",
       "    <tr>\n",
       "      <th>4</th>\n",
       "      <td>T</td>\n",
       "      <td>PTLG004</td>\n",
       "      <td>23587868</td>\n",
       "      <td>10603</td>\n",
       "      <td>Female</td>\n",
       "      <td>0</td>\n",
       "      <td>1</td>\n",
       "      <td>11</td>\n",
       "      <td>5.204209</td>\n",
       "      <td>1.734736e+00</td>\n",
       "      <td>...</td>\n",
       "      <td>4261.9</td>\n",
       "      <td>1804.6</td>\n",
       "      <td>1470.6</td>\n",
       "      <td>526.8</td>\n",
       "      <td>163.0</td>\n",
       "      <td>38938.3</td>\n",
       "      <td>1170.1</td>\n",
       "      <td>1036.8</td>\n",
       "      <td>552.8</td>\n",
       "      <td>3457.1</td>\n",
       "    </tr>\n",
       "  </tbody>\n",
       "</table>\n",
       "<p>5 rows × 61274 columns</p>\n",
       "</div>"
      ],
      "text/plain": [
       "  Training/Validation Gates ID       MRN Study Subject ID Number     Sex  \\\n",
       "                                                                           \n",
       "0                   T  PTLG002  16661779                   10565    Male   \n",
       "1                   T  PTLG002  16661779                   10565    Male   \n",
       "2                   T  PTLG002  16661779                   10565    Male   \n",
       "3                   T  PTLG002  16661779                   10565    Male   \n",
       "4                   T  PTLG004  23587868                   10603  Female   \n",
       "\n",
       "  sex_bin timepoint gestational_age cellfree_rna                ...  \\\n",
       "                                       0_C2orf76      1_ACTL10  ...   \n",
       "0       1         1              11     0.312437 -1.892930e-16  ...   \n",
       "1       1         2              18     0.312437 -1.892930e-16  ...   \n",
       "2       1         3              32     0.312437 -1.892930e-16  ...   \n",
       "3       1         4              45     0.312437 -1.892930e-16  ...   \n",
       "4       0         1              11     5.204209  1.734736e+00  ...   \n",
       "\n",
       "  plasma_somalogic                                                             \\\n",
       "       1290_UBE2G2 1291_TAGLN2 1292_ATP5O 1293_POMC 1294_CRYZL1 1295_SERPINF1   \n",
       "0           4804.4      2233.0     3610.9     715.8       151.4       37885.8   \n",
       "1           4086.0      2160.5     2260.4     825.2       161.0       41821.5   \n",
       "2           4328.0      1818.4     2445.2    1241.8       194.6       45526.1   \n",
       "3           3442.4      2661.4     3879.2     703.6       153.7       36862.5   \n",
       "4           4261.9      1804.6     1470.6     526.8       163.0       38938.3   \n",
       "\n",
       "                                              \n",
       "  1296_CTSF 1297_FTCD 1298_USP25 1299_PLXNB2  \n",
       "0    1479.1    3261.8      561.3      3227.0  \n",
       "1    1465.1    1839.8      597.8      3366.0  \n",
       "2    1428.3    3057.2      625.7      8703.7  \n",
       "3    1063.6    7339.7      593.2      2918.9  \n",
       "4    1170.1    1036.8      552.8      3457.1  \n",
       "\n",
       "[5 rows x 61274 columns]"
      ]
     },
     "execution_count": 1,
     "metadata": {},
     "output_type": "execute_result"
    }
   ],
   "source": [
    "# code for loading the data\n",
    "\n",
    "import numpy as np\n",
    "import pickle\n",
    "\n",
    "with open(\"task1_multiomics_data.pickle\", \"rb\") as file:\n",
    "    data_multiomics = pickle.load(file)\n",
    "    \n",
    "data_multiomics.head(5)"
   ]
  },
  {
   "cell_type": "code",
   "execution_count": 2,
   "id": "601e700b-6ab9-488c-821a-f59870e8d5e8",
   "metadata": {},
   "outputs": [
    {
     "data": {
      "text/html": [
       "<div>\n",
       "<style scoped>\n",
       "    .dataframe tbody tr th:only-of-type {\n",
       "        vertical-align: middle;\n",
       "    }\n",
       "\n",
       "    .dataframe tbody tr th {\n",
       "        vertical-align: top;\n",
       "    }\n",
       "\n",
       "    .dataframe thead th {\n",
       "        text-align: right;\n",
       "    }\n",
       "</style>\n",
       "<table border=\"1\" class=\"dataframe\">\n",
       "  <thead>\n",
       "    <tr style=\"text-align: right;\">\n",
       "      <th></th>\n",
       "      <th>0_Bcells</th>\n",
       "      <th>1_CD16+CD56-NKcells</th>\n",
       "      <th>2_CD4+Tcells_mem</th>\n",
       "      <th>3_CD4+Tcells_naive</th>\n",
       "      <th>4_CD4+Tcells</th>\n",
       "      <th>5_CD45RA+Tregs</th>\n",
       "      <th>6_CD45RA-Tregs</th>\n",
       "      <th>7_CD56+CD16-NKcells</th>\n",
       "      <th>8_CD7+NKcells</th>\n",
       "      <th>9_CD8+Tcells_mem</th>\n",
       "      <th>...</th>\n",
       "      <th>524_M-MDSC_STAT5_Unstim</th>\n",
       "      <th>525_mDCs_STAT5_Unstim</th>\n",
       "      <th>526_ncMCs_STAT5_Unstim</th>\n",
       "      <th>527_pDCs_STAT5_Unstim</th>\n",
       "      <th>528_Tbet+CD4+Tcells_mem_STAT5_Unstim</th>\n",
       "      <th>529_Tbet+CD4+Tcells_naive_STAT5_Unstim</th>\n",
       "      <th>530_Tbet+CD8+Tcells_mem_STAT5_Unstim</th>\n",
       "      <th>531_Tbet+CD8+Tcells_naive_STAT5_Unstim</th>\n",
       "      <th>532_TCRgd+Tcells_STAT5_Unstim</th>\n",
       "      <th>533_Tregs_STAT5_Unstim</th>\n",
       "    </tr>\n",
       "  </thead>\n",
       "  <tbody>\n",
       "    <tr>\n",
       "      <th>0</th>\n",
       "      <td>0.053164</td>\n",
       "      <td>0.054978</td>\n",
       "      <td>0.297875</td>\n",
       "      <td>0.136289</td>\n",
       "      <td>0.445832</td>\n",
       "      <td>0.002570</td>\n",
       "      <td>0.013848</td>\n",
       "      <td>0.007052</td>\n",
       "      <td>0.070836</td>\n",
       "      <td>0.118884</td>\n",
       "      <td>...</td>\n",
       "      <td>0.998954</td>\n",
       "      <td>0.953637</td>\n",
       "      <td>1.082629</td>\n",
       "      <td>0.808610</td>\n",
       "      <td>0.504269</td>\n",
       "      <td>0.757424</td>\n",
       "      <td>0.462045</td>\n",
       "      <td>0.454665</td>\n",
       "      <td>0.443859</td>\n",
       "      <td>0.529431</td>\n",
       "    </tr>\n",
       "    <tr>\n",
       "      <th>1</th>\n",
       "      <td>0.052857</td>\n",
       "      <td>0.069794</td>\n",
       "      <td>0.279917</td>\n",
       "      <td>0.140350</td>\n",
       "      <td>0.430839</td>\n",
       "      <td>0.002470</td>\n",
       "      <td>0.010923</td>\n",
       "      <td>0.004759</td>\n",
       "      <td>0.080245</td>\n",
       "      <td>0.127831</td>\n",
       "      <td>...</td>\n",
       "      <td>0.930847</td>\n",
       "      <td>0.822618</td>\n",
       "      <td>0.931126</td>\n",
       "      <td>0.728738</td>\n",
       "      <td>0.613059</td>\n",
       "      <td>0.852393</td>\n",
       "      <td>0.506981</td>\n",
       "      <td>0.474408</td>\n",
       "      <td>0.491691</td>\n",
       "      <td>0.574133</td>\n",
       "    </tr>\n",
       "    <tr>\n",
       "      <th>2</th>\n",
       "      <td>0.053202</td>\n",
       "      <td>0.050829</td>\n",
       "      <td>0.277997</td>\n",
       "      <td>0.187659</td>\n",
       "      <td>0.479078</td>\n",
       "      <td>0.003473</td>\n",
       "      <td>0.013359</td>\n",
       "      <td>0.005302</td>\n",
       "      <td>0.063781</td>\n",
       "      <td>0.104513</td>\n",
       "      <td>...</td>\n",
       "      <td>1.077824</td>\n",
       "      <td>0.970954</td>\n",
       "      <td>1.011011</td>\n",
       "      <td>0.749277</td>\n",
       "      <td>0.752882</td>\n",
       "      <td>0.813249</td>\n",
       "      <td>0.560379</td>\n",
       "      <td>0.481862</td>\n",
       "      <td>0.505706</td>\n",
       "      <td>0.640245</td>\n",
       "    </tr>\n",
       "    <tr>\n",
       "      <th>3</th>\n",
       "      <td>0.049906</td>\n",
       "      <td>0.090496</td>\n",
       "      <td>0.266336</td>\n",
       "      <td>0.156263</td>\n",
       "      <td>0.432904</td>\n",
       "      <td>0.003071</td>\n",
       "      <td>0.014459</td>\n",
       "      <td>0.004318</td>\n",
       "      <td>0.101386</td>\n",
       "      <td>0.115243</td>\n",
       "      <td>...</td>\n",
       "      <td>0.976888</td>\n",
       "      <td>0.918164</td>\n",
       "      <td>1.028114</td>\n",
       "      <td>0.790166</td>\n",
       "      <td>0.505349</td>\n",
       "      <td>0.648406</td>\n",
       "      <td>0.464522</td>\n",
       "      <td>0.445444</td>\n",
       "      <td>0.438285</td>\n",
       "      <td>0.573058</td>\n",
       "    </tr>\n",
       "    <tr>\n",
       "      <th>4</th>\n",
       "      <td>0.103067</td>\n",
       "      <td>0.004128</td>\n",
       "      <td>0.162746</td>\n",
       "      <td>0.103950</td>\n",
       "      <td>0.270840</td>\n",
       "      <td>0.003198</td>\n",
       "      <td>0.007988</td>\n",
       "      <td>0.007153</td>\n",
       "      <td>0.090763</td>\n",
       "      <td>0.057064</td>\n",
       "      <td>...</td>\n",
       "      <td>0.890405</td>\n",
       "      <td>0.800468</td>\n",
       "      <td>1.067789</td>\n",
       "      <td>0.563615</td>\n",
       "      <td>0.464563</td>\n",
       "      <td>1.004497</td>\n",
       "      <td>0.378557</td>\n",
       "      <td>0.423530</td>\n",
       "      <td>0.332368</td>\n",
       "      <td>0.447904</td>\n",
       "    </tr>\n",
       "  </tbody>\n",
       "</table>\n",
       "<p>5 rows × 534 columns</p>\n",
       "</div>"
      ],
      "text/plain": [
       "   0_Bcells  1_CD16+CD56-NKcells  2_CD4+Tcells_mem  3_CD4+Tcells_naive  \\\n",
       "0  0.053164             0.054978          0.297875            0.136289   \n",
       "1  0.052857             0.069794          0.279917            0.140350   \n",
       "2  0.053202             0.050829          0.277997            0.187659   \n",
       "3  0.049906             0.090496          0.266336            0.156263   \n",
       "4  0.103067             0.004128          0.162746            0.103950   \n",
       "\n",
       "   4_CD4+Tcells  5_CD45RA+Tregs  6_CD45RA-Tregs  7_CD56+CD16-NKcells  \\\n",
       "0      0.445832        0.002570        0.013848             0.007052   \n",
       "1      0.430839        0.002470        0.010923             0.004759   \n",
       "2      0.479078        0.003473        0.013359             0.005302   \n",
       "3      0.432904        0.003071        0.014459             0.004318   \n",
       "4      0.270840        0.003198        0.007988             0.007153   \n",
       "\n",
       "   8_CD7+NKcells  9_CD8+Tcells_mem  ...  524_M-MDSC_STAT5_Unstim  \\\n",
       "0       0.070836          0.118884  ...                 0.998954   \n",
       "1       0.080245          0.127831  ...                 0.930847   \n",
       "2       0.063781          0.104513  ...                 1.077824   \n",
       "3       0.101386          0.115243  ...                 0.976888   \n",
       "4       0.090763          0.057064  ...                 0.890405   \n",
       "\n",
       "   525_mDCs_STAT5_Unstim  526_ncMCs_STAT5_Unstim  527_pDCs_STAT5_Unstim  \\\n",
       "0               0.953637                1.082629               0.808610   \n",
       "1               0.822618                0.931126               0.728738   \n",
       "2               0.970954                1.011011               0.749277   \n",
       "3               0.918164                1.028114               0.790166   \n",
       "4               0.800468                1.067789               0.563615   \n",
       "\n",
       "   528_Tbet+CD4+Tcells_mem_STAT5_Unstim  \\\n",
       "0                              0.504269   \n",
       "1                              0.613059   \n",
       "2                              0.752882   \n",
       "3                              0.505349   \n",
       "4                              0.464563   \n",
       "\n",
       "   529_Tbet+CD4+Tcells_naive_STAT5_Unstim  \\\n",
       "0                                0.757424   \n",
       "1                                0.852393   \n",
       "2                                0.813249   \n",
       "3                                0.648406   \n",
       "4                                1.004497   \n",
       "\n",
       "   530_Tbet+CD8+Tcells_mem_STAT5_Unstim  \\\n",
       "0                              0.462045   \n",
       "1                              0.506981   \n",
       "2                              0.560379   \n",
       "3                              0.464522   \n",
       "4                              0.378557   \n",
       "\n",
       "   531_Tbet+CD8+Tcells_naive_STAT5_Unstim  532_TCRgd+Tcells_STAT5_Unstim  \\\n",
       "0                                0.454665                       0.443859   \n",
       "1                                0.474408                       0.491691   \n",
       "2                                0.481862                       0.505706   \n",
       "3                                0.445444                       0.438285   \n",
       "4                                0.423530                       0.332368   \n",
       "\n",
       "   533_Tregs_STAT5_Unstim  \n",
       "0                0.529431  \n",
       "1                0.574133  \n",
       "2                0.640245  \n",
       "3                0.573058  \n",
       "4                0.447904  \n",
       "\n",
       "[5 rows x 534 columns]"
      ]
     },
     "execution_count": 2,
     "metadata": {},
     "output_type": "execute_result"
    }
   ],
   "source": [
    "# look at the immune system\n",
    "data_multiomics[\"immune_system\"].head(5)"
   ]
  },
  {
   "cell_type": "markdown",
   "id": "0bb2e51b-5040-43b4-8c2b-5a5fe2b610ff",
   "metadata": {},
   "source": [
    "## Tasks"
   ]
  },
  {
   "cell_type": "markdown",
   "id": "d4575569-097c-4466-9e87-6d9828438528",
   "metadata": {},
   "source": [
    "### Your experience"
   ]
  },
  {
   "cell_type": "markdown",
   "id": "0aa66553-c955-4eb2-9d00-a743a3fa8f22",
   "metadata": {},
   "source": [
    "Before we start, please briefly describe your experience in data science and machine learning (5 sentences)."
   ]
  },
  {
   "cell_type": "markdown",
   "id": "5f9bbac4-bf98-4086-b037-537dab6709af",
   "metadata": {},
   "source": [
    "> N/A"
   ]
  },
  {
   "cell_type": "markdown",
   "id": "1e208e6c-6b53-4a94-a4d9-eea2545378a1",
   "metadata": {},
   "source": [
    "### Gestational Age"
   ]
  },
  {
   "cell_type": "markdown",
   "id": "72f7cbc5-5d8e-4f45-aaa4-b2d90cfbfdf1",
   "metadata": {},
   "source": [
    "1. **Predict `gestational_age`** using the `immune_system` modality using at least two models (e.g., elastic net and support vector machines)\n",
    "\n",
    "2. **Evaluate** your models using a measure that you think fits best. If it is a different measure than in the paper, please briefly explain why.\n",
    "\n",
    "3. For your best model, **plot the model predictions** similar to **Figure 2D**.\n",
    "\n",
    "\n",
    "**Hint:** To train and evaluate models, you can use [scikit-learn](https://scikit-learn.org/stable/tutorial/basic/tutorial.html)."
   ]
  },
  {
   "cell_type": "markdown",
   "id": "fd18c532-1f47-46eb-afd3-762fad1d1e72",
   "metadata": {
    "tags": []
   },
   "source": [
    "**Figure 2D:**<br/>\n",
    "<img src=\"assets/task1_multiomics_fig2d.jpeg\">"
   ]
  },
  {
   "cell_type": "code",
   "execution_count": 3,
   "id": "58877194-bff2-462f-bbfc-c64b9ccf3f91",
   "metadata": {},
   "outputs": [
    {
     "data": {
      "text/plain": [
       "(68, 61274)"
      ]
     },
     "execution_count": 3,
     "metadata": {},
     "output_type": "execute_result"
    }
   ],
   "source": [
    "data_multiomics.shape"
   ]
  },
  {
   "cell_type": "code",
   "execution_count": 4,
   "id": "c53994e8",
   "metadata": {},
   "outputs": [],
   "source": [
    "# The output feature y \n",
    "\n",
    "y = np.array(data_multiomics[\"gestational_age\"]) "
   ]
  },
  {
   "cell_type": "code",
   "execution_count": 5,
   "id": "a1df8562",
   "metadata": {},
   "outputs": [
    {
     "data": {
      "text/plain": [
       "(68,)"
      ]
     },
     "execution_count": 5,
     "metadata": {},
     "output_type": "execute_result"
    }
   ],
   "source": [
    "y.shape"
   ]
  },
  {
   "cell_type": "code",
   "execution_count": 6,
   "id": "5ace24b9",
   "metadata": {},
   "outputs": [],
   "source": [
    "# The Input feature\n",
    "\n",
    "X = np.array(data_multiomics[\"immune_system\"])                                                    "
   ]
  },
  {
   "cell_type": "code",
   "execution_count": 7,
   "id": "1a9316a7",
   "metadata": {},
   "outputs": [
    {
     "data": {
      "text/plain": [
       "(68, 534)"
      ]
     },
     "execution_count": 7,
     "metadata": {},
     "output_type": "execute_result"
    }
   ],
   "source": [
    "X.shape # How come we have 534 features?"
   ]
  },
  {
   "cell_type": "code",
   "execution_count": 8,
   "id": "f71183ca",
   "metadata": {},
   "outputs": [],
   "source": [
    "# Splitting dataset into training and test dataset\n",
    "# Import train_test_split\n",
    "from sklearn.model_selection import train_test_split"
   ]
  },
  {
   "cell_type": "code",
   "execution_count": 9,
   "id": "cd6bcac4",
   "metadata": {},
   "outputs": [],
   "source": [
    "# Splitting the dataset: we chose 25% for the test set\n",
    "X_train, X_test, y_train, y_test = train_test_split(X, y, test_size = 0.25)"
   ]
  },
  {
   "cell_type": "code",
   "execution_count": 10,
   "id": "e99995cb",
   "metadata": {},
   "outputs": [
    {
     "data": {
      "text/plain": [
       "array([27, 25, 11, 27, 28, 28, 28, 16, 15, 11, 27, 11, 45, 24, 26, 44, 47])"
      ]
     },
     "execution_count": 10,
     "metadata": {},
     "output_type": "execute_result"
    }
   ],
   "source": [
    "y_test"
   ]
  },
  {
   "cell_type": "code",
   "execution_count": 11,
   "id": "b7595694",
   "metadata": {},
   "outputs": [],
   "source": [
    "# Building and fitting the ElasticNet regression model\n",
    "# Importing ElasticNet\n",
    "\n",
    "from sklearn.linear_model import ElasticNet\n",
    "# Building the model and applying the fitting process on the training dataset\n",
    "\n",
    "eNet_multiomics = ElasticNet().fit(X_train, y_train)"
   ]
  },
  {
   "cell_type": "code",
   "execution_count": 12,
   "id": "cc77f812",
   "metadata": {},
   "outputs": [
    {
     "data": {
      "text/plain": [
       "37.93342410648186"
      ]
     },
     "execution_count": 12,
     "metadata": {},
     "output_type": "execute_result"
    }
   ],
   "source": [
    "# The model intercept\n",
    "eNet_multiomics.intercept_"
   ]
  },
  {
   "cell_type": "code",
   "execution_count": 13,
   "id": "fc0de7cf",
   "metadata": {},
   "outputs": [
    {
     "data": {
      "text/plain": [
       "array([-0.        , -0.        ,  0.        ,  0.        ,  0.        ,\n",
       "        0.        ,  0.        ,  0.        ,  0.        , -0.        ,\n",
       "        0.        ,  0.        , -0.        , -0.40001081, -0.        ,\n",
       "       -0.        ,  0.        , -0.        , -0.        ,  0.        ,\n",
       "        0.        , -0.        ,  0.        , -0.        ,  0.        ,\n",
       "       -0.        , -0.17930902, -0.        , -0.        , -0.        ,\n",
       "       -0.        , -0.        , -0.56209325, -0.36521957, -0.31007731,\n",
       "       -0.30649528, -0.22129792, -0.        , -0.59270901, -0.        ,\n",
       "       -0.        , -0.        , -0.02010643,  0.        , -0.4337463 ,\n",
       "       -0.71398377, -0.38595727, -0.43956687, -0.13456067, -0.        ,\n",
       "       -0.        , -0.        , -0.        ,  0.        , -0.        ,\n",
       "        0.        , -0.        , -0.        , -0.        , -0.        ,\n",
       "       -0.        , -0.        ,  0.        , -0.80105842,  0.        ,\n",
       "        0.        ,  0.        , -0.        ,  0.        , -0.        ,\n",
       "       -0.        , -0.        , -0.        , -0.        , -0.        ,\n",
       "       -0.        , -0.        , -0.        , -0.        , -0.        ,\n",
       "        0.        , -0.        , -0.06053092, -0.        , -0.05671208,\n",
       "       -0.        , -0.        , -0.        , -2.29999585,  0.        ,\n",
       "       -0.        , -0.        , -0.        ,  0.        , -0.16592325,\n",
       "       -0.        , -0.12579032, -0.        , -0.        , -0.        ,\n",
       "        0.        , -0.        ,  0.        ,  0.        ,  0.        ,\n",
       "        0.        ,  0.        , -0.        , -0.        ,  0.        ,\n",
       "        0.        ,  0.        ,  1.31255438, -0.        ,  0.        ,\n",
       "        1.3932804 ,  0.        , -0.        , -0.        ,  0.        ,\n",
       "        0.        ,  0.        ,  0.        ,  0.        ,  0.        ,\n",
       "       -0.        , -0.        , -0.        , -0.01991126, -0.        ,\n",
       "       -0.        , -0.        , -0.        , -0.        , -0.        ,\n",
       "       -0.17667715, -0.        ,  0.        , -0.        , -0.        ,\n",
       "        0.        , -0.        , -0.        , -0.50322741, -0.        ,\n",
       "       -0.47076471, -0.        , -0.        , -0.        , -0.        ,\n",
       "       -0.        ,  0.        , -0.        ,  0.        , -0.        ,\n",
       "       -0.        , -0.        , -0.        ,  0.        , -0.        ,\n",
       "       -0.        , -0.        ,  0.        , -0.52230606,  0.        ,\n",
       "        0.        ,  0.        , -0.        , -0.        , -0.        ,\n",
       "       -0.        , -0.        , -0.        , -0.        , -0.        ,\n",
       "        0.        , -0.        ,  0.        ,  0.        ,  0.        ,\n",
       "        0.        , -0.        , -0.        , -0.        , -0.        ,\n",
       "        0.        , -0.        ,  0.        , -1.09490768,  0.        ,\n",
       "        0.        , -0.        , -0.        , -0.        , -0.        ,\n",
       "       -0.        , -0.        , -0.        , -0.        , -0.        ,\n",
       "        0.        ,  0.        ,  0.        ,  0.        ,  0.        ,\n",
       "        0.66133413,  0.        ,  0.17840924,  0.79347792,  0.37935271,\n",
       "        0.        ,  0.        ,  0.        , -0.        , -0.        ,\n",
       "        0.        ,  0.        ,  0.        , -0.        ,  0.        ,\n",
       "        0.        ,  0.27142207, -0.4510753 ,  0.        , -0.        ,\n",
       "        0.        ,  0.        ,  0.        , -0.        , -0.        ,\n",
       "        0.        , -0.        , -0.        , -0.        , -0.        ,\n",
       "        0.        , -0.        , -0.        , -0.        ,  0.        ,\n",
       "       -0.        ,  0.        , -0.        ,  0.        ,  0.        ,\n",
       "        0.        , -0.        , -0.        ,  0.        , -0.        ,\n",
       "        0.        , -0.        ,  0.        ,  0.02993687,  0.        ,\n",
       "        0.        ,  0.        ,  0.        ,  0.        ,  0.        ,\n",
       "        0.        , -0.        ,  0.        ,  0.        ,  0.        ,\n",
       "        0.73229434, -0.32358532,  1.01954381,  0.91515498,  0.58133309,\n",
       "       -0.        ,  0.        ,  0.        , -0.        , -0.        ,\n",
       "        0.        ,  0.        ,  1.19347812, -0.        ,  0.40050302,\n",
       "        1.3040759 ,  0.21494593,  0.        , -0.        , -0.08909068,\n",
       "       -0.        , -0.        , -0.        , -0.        , -0.        ,\n",
       "       -0.        , -0.        , -0.        , -0.17219949, -0.        ,\n",
       "       -0.        , -0.70007336, -0.09937634, -0.        , -0.49440572,\n",
       "       -0.83351968, -0.01700304, -0.        , -0.        , -0.        ,\n",
       "       -0.23529039, -0.01686951, -0.        , -0.        , -0.        ,\n",
       "       -0.        , -0.        , -0.        , -0.        , -0.        ,\n",
       "       -0.        , -0.        , -0.        , -0.        , -0.        ,\n",
       "       -0.        , -0.        , -0.        ,  0.        , -0.43936092,\n",
       "       -0.        , -0.        , -0.        , -0.        , -0.        ,\n",
       "       -0.        , -0.        , -0.        , -0.        ,  0.        ,\n",
       "        0.        ,  0.        ,  0.        ,  0.        ,  0.        ,\n",
       "        0.        ,  0.        ,  0.        ,  0.        ,  0.        ,\n",
       "        0.        ,  0.        , -0.        ,  0.18071863,  0.        ,\n",
       "        0.        ,  0.        ,  0.        ,  0.        ,  0.        ,\n",
       "        0.        ,  0.        ,  0.        ,  0.        ,  0.        ,\n",
       "        0.        , -0.        ,  0.        , -0.        ,  0.        ,\n",
       "       -0.        ,  0.        ,  0.        , -0.        ,  0.        ,\n",
       "        0.        , -0.        , -0.29570181, -0.        , -0.        ,\n",
       "       -0.        , -0.        ,  0.        , -0.        ,  0.        ,\n",
       "       -0.        , -0.        ,  0.        , -0.        , -0.        ,\n",
       "       -0.        , -0.        , -0.        , -0.        , -0.        ,\n",
       "       -0.        , -0.        , -0.        , -0.        , -0.        ,\n",
       "       -0.        , -0.        , -0.        , -0.        , -0.03049529,\n",
       "       -0.        , -0.        , -0.        , -0.        , -0.        ,\n",
       "       -0.        , -0.        , -0.        , -0.        , -0.        ,\n",
       "       -0.        , -0.        , -0.        , -0.        , -0.        ,\n",
       "       -0.        , -0.        , -0.        , -0.        , -0.        ,\n",
       "       -0.        , -0.39620746, -0.        , -0.        , -0.22673469,\n",
       "       -0.72182291, -0.        , -0.        , -0.        , -0.        ,\n",
       "       -0.        , -0.        , -0.        , -0.        , -0.        ,\n",
       "       -0.        , -0.        ,  0.        ,  0.        ,  0.        ,\n",
       "       -0.        , -0.        , -0.        , -0.        ,  0.        ,\n",
       "        0.        , -0.68028081, -0.        , -0.        , -0.76625238,\n",
       "       -0.08004345, -0.        , -0.        , -0.        ,  0.        ,\n",
       "       -0.        ,  0.        , -0.        ,  0.        , -0.        ,\n",
       "       -0.        , -0.        , -0.        , -0.        , -0.        ,\n",
       "       -0.        , -0.        , -0.        , -0.        , -0.        ,\n",
       "       -0.        , -0.        , -0.        ,  0.        , -0.        ,\n",
       "       -0.        , -0.        , -0.        , -0.        , -0.        ,\n",
       "       -0.        , -0.        , -0.        , -0.        , -0.        ,\n",
       "       -0.        , -0.        , -0.        , -0.        , -0.        ,\n",
       "       -0.        , -0.        , -0.        , -0.        , -0.        ,\n",
       "       -0.        , -0.        , -0.42752312, -0.        , -0.        ,\n",
       "       -0.06059339, -0.        , -0.        , -0.08214906, -0.21122429,\n",
       "       -0.        , -0.        , -0.        , -0.        , -0.        ,\n",
       "       -0.        , -0.        , -0.        , -0.        , -0.        ,\n",
       "       -0.        , -0.        , -0.        , -0.        , -0.        ,\n",
       "       -0.        , -0.        , -0.        , -0.        , -0.        ,\n",
       "       -0.        , -0.        , -0.        , -0.        , -0.        ,\n",
       "       -0.        , -0.        , -0.        , -0.        ])"
      ]
     },
     "execution_count": 13,
     "metadata": {},
     "output_type": "execute_result"
    }
   ],
   "source": [
    "# The model coefficients\n",
    "eNet_multiomics.coef_"
   ]
  },
  {
   "cell_type": "code",
   "execution_count": 14,
   "id": "1d4f3234",
   "metadata": {},
   "outputs": [
    {
     "name": "stdout",
     "output_type": "stream",
     "text": [
      "The r-squared on the training data is:  43.275962816332814\n"
     ]
    }
   ],
   "source": [
    "# Printing the r-square\n",
    "# R-squared on the training dataset\n",
    "print('The r-squared on the training data is: ', eNet_multiomics.score(X_train, y_train)*100)"
   ]
  },
  {
   "cell_type": "code",
   "execution_count": 15,
   "id": "93d15c19",
   "metadata": {},
   "outputs": [
    {
     "name": "stdout",
     "output_type": "stream",
     "text": [
      "The r-squared on the test data is:  -1.0340220864014205\n"
     ]
    }
   ],
   "source": [
    "# Printing the r-square\n",
    "# R-squared on the test dataset\n",
    "print('The r-squared on the test data is: ', eNet_multiomics.score(X_test, y_test)*100)"
   ]
  },
  {
   "cell_type": "code",
   "execution_count": 16,
   "id": "712d55c2",
   "metadata": {},
   "outputs": [],
   "source": [
    "# Plotting the prediction errors and residuals\n",
    "# From Command Prompt, install yellowbrick\n",
    "from sklearn.preprocessing import StandardScaler"
   ]
  },
  {
   "cell_type": "code",
   "execution_count": 17,
   "id": "773e16a7",
   "metadata": {},
   "outputs": [],
   "source": [
    "# Plotting the prediction errors\n",
    "from yellowbrick.regressor import PredictionError"
   ]
  },
  {
   "cell_type": "code",
   "execution_count": 18,
   "id": "bccbfaa4",
   "metadata": {},
   "outputs": [
    {
     "data": {
      "image/png": "[encoded data removed]",
      "text/plain": [
       "<Figure size 800x550 with 1 Axes>"
      ]
     },
     "metadata": {},
     "output_type": "display_data"
    },
    {
     "data": {
      "text/plain": [
       "<Axes: title={'center': 'Prediction Error for ElasticNet'}, xlabel='$y$', ylabel='$\\\\hat{y}$'>"
      ]
     },
     "execution_count": 18,
     "metadata": {},
     "output_type": "execute_result"
    }
   ],
   "source": [
    "visualizer = PredictionError(eNet_multiomics)\n",
    "visualizer.fit(X_train, y_train)\n",
    "visualizer.score(X_test, y_test)\n",
    "visualizer.poof()\n",
    "\n",
    "# What information does this plot give?\n",
    "# What does the line of identity tell us?"
   ]
  },
  {
   "cell_type": "code",
   "execution_count": 19,
   "id": "84a5c1fe",
   "metadata": {},
   "outputs": [],
   "source": [
    "# Plotting the residuals\n",
    "from yellowbrick.regressor import ResidualsPlot"
   ]
  },
  {
   "cell_type": "code",
   "execution_count": 20,
   "id": "c760cc74",
   "metadata": {},
   "outputs": [
    {
     "data": {
      "image/png": "[encoded data removed]",
      "text/plain": [
       "<Figure size 800x550 with 2 Axes>"
      ]
     },
     "metadata": {},
     "output_type": "display_data"
    },
    {
     "data": {
      "text/plain": [
       "<Axes: title={'center': 'Residuals for ElasticNet Model'}, xlabel='Predicted Value', ylabel='Residuals'>"
      ]
     },
     "execution_count": 20,
     "metadata": {},
     "output_type": "execute_result"
    }
   ],
   "source": [
    "visualizer = ResidualsPlot(eNet_multiomics)\n",
    "visualizer.fit(X_train, y_train)\n",
    "visualizer.score(X_test, y_test)\n",
    "visualizer.poof()\n",
    "\n",
    "# What information does this plot give?"
   ]
  },
  {
   "cell_type": "code",
   "execution_count": 21,
   "id": "77588627",
   "metadata": {},
   "outputs": [
    {
     "name": "stderr",
     "output_type": "stream",
     "text": [
      "/Users/maviano/miniconda3/lib/python3.10/site-packages/sklearn/linear_model/_coordinate_descent.py:647: ConvergenceWarning: Objective did not converge. You might want to increase the number of iterations, check the scale of the features or consider increasing regularisation. Duality gap: 3.433e+01, tolerance: 9.533e-01\n",
      "  model = cd_fast.enet_coordinate_descent(\n",
      "/Users/maviano/miniconda3/lib/python3.10/site-packages/sklearn/linear_model/_coordinate_descent.py:647: ConvergenceWarning: Objective did not converge. You might want to increase the number of iterations, check the scale of the features or consider increasing regularisation. Duality gap: 1.187e+00, tolerance: 9.533e-01\n",
      "  model = cd_fast.enet_coordinate_descent(\n"
     ]
    }
   ],
   "source": [
    "# ElasticNet regression with several values of lambda\n",
    "# Setting the parameters\n",
    "# Alphas\n",
    "alphas = 10**np.linspace(10, 100, 10)*0.5\n",
    "# Lambda\n",
    "l_min = 0.01\n",
    "l_max = 0.2\n",
    "l_num = 10\n",
    "lambdas = np.linspace(l_min, l_max, l_num)\n",
    "# Prediction\n",
    "pred_num = X.shape[1]\n",
    "# Coefficients\n",
    "coef_a = np.zeros((l_num, pred_num))\n",
    "\n",
    "# The r-squared\n",
    "Rsq_train = np.zeros(l_num)\n",
    "Rsq_test = np.zeros(l_num)\n",
    "\n",
    "# Enumerating through lambdas with ind and i\n",
    "\n",
    "for ind, i in enumerate(lambdas):\n",
    "    eNet_multiomics = ElasticNet(alpha = i).fit(X_train, y_train)\n",
    "    coef_a[ind, :] = eNet_multiomics.coef_\n",
    "    Rsq_train[ind] = eNet_multiomics.score(X_train, y_train)\n",
    "    Rsq_train[ind] = eNet_multiomics.score(X_train, y_train)"
   ]
  },
  {
   "cell_type": "code",
   "execution_count": 22,
   "id": "ddb2e4c9",
   "metadata": {},
   "outputs": [],
   "source": [
    "# Plotting the r-squared as a function of the lambda values\n",
    "import matplotlib.pyplot as plt\n",
    "%matplotlib inline"
   ]
  },
  {
   "cell_type": "code",
   "execution_count": 23,
   "id": "14351fde",
   "metadata": {
    "scrolled": true
   },
   "outputs": [
    {
     "name": "stderr",
     "output_type": "stream",
     "text": [
      "/var/folders/49/536gw7js5kjb7d3yg9lh5x3c0000gn/T/ipykernel_7597/2127822814.py:3: UserWarning: color is redundantly defined by the 'color' keyword argument and the fmt string \"bo-\" (-> color='b'). The keyword argument will take precedence.\n",
      "  plt.plot(Rsq_train, 'bo-', label = r'$R^2$ Training dataset', color = 'blue', alpha = 0.6, linewidth = 4)\n",
      "/var/folders/49/536gw7js5kjb7d3yg9lh5x3c0000gn/T/ipykernel_7597/2127822814.py:4: UserWarning: color is redundantly defined by the 'color' keyword argument and the fmt string \"bo-\" (-> color='b'). The keyword argument will take precedence.\n",
      "  plt.plot(Rsq_test, 'bo-', label = r'$R^2$ Test dataset', color = 'red', alpha = 0.6, linewidth = 4)\n"
     ]
    },
    {
     "data": {
      "image/png": "[encoded data removed]",
      "text/plain": [
       "<Figure size 2000x800 with 1 Axes>"
      ]
     },
     "metadata": {},
     "output_type": "display_data"
    }
   ],
   "source": [
    "# Plotting the r2\n",
    "plt.figure(figsize = (20, 8))\n",
    "plt.plot(Rsq_train, 'bo-', label = r'$R^2$ Training dataset', color = 'blue', alpha = 0.6, linewidth = 4)\n",
    "plt.plot(Rsq_test, 'bo-', label = r'$R^2$ Test dataset', color = 'red', alpha = 0.6, linewidth = 4)\n",
    "plt.ylabel(r'$R^2$')\n",
    "plt.xlabel('Lambda')\n",
    "plt.grid()"
   ]
  },
  {
   "cell_type": "code",
   "execution_count": 24,
   "id": "4553cba5",
   "metadata": {},
   "outputs": [
    {
     "data": {
      "text/plain": [
       "array([22.01138612, 18.44905435, 17.253448  , 14.6437315 , 15.17618835,\n",
       "       18.75070186, 24.03202863, 13.22509546, 23.85479094, 28.90464081,\n",
       "       18.23941678, 43.92417811, 37.4981469 , 24.01333788,  9.98018156,\n",
       "       24.84377028, 42.94598714])"
      ]
     },
     "execution_count": 24,
     "metadata": {},
     "output_type": "execute_result"
    }
   ],
   "source": [
    "# Making prediction on test data\n",
    "y_pred_test = eNet_multiomics.predict(X_test)\n",
    "\n",
    "y_pred_test"
   ]
  },
  {
   "cell_type": "code",
   "execution_count": 25,
   "id": "25529790",
   "metadata": {},
   "outputs": [],
   "source": [
    "# The r_squared of the prediction\n",
    "from sklearn.metrics import r2_score"
   ]
  },
  {
   "cell_type": "code",
   "execution_count": 26,
   "id": "320743b6",
   "metadata": {},
   "outputs": [
    {
     "data": {
      "text/plain": [
       "-0.3660096149512795"
      ]
     },
     "execution_count": 26,
     "metadata": {},
     "output_type": "execute_result"
    }
   ],
   "source": [
    "Rsq_test = r2_score(y_test, y_pred_test)\n",
    "Rsq_test"
   ]
  },
  {
   "cell_type": "code",
   "execution_count": 27,
   "id": "acb8e617",
   "metadata": {},
   "outputs": [],
   "source": [
    "# The RMSE\n",
    "from sklearn.metrics import mean_squared_error"
   ]
  },
  {
   "cell_type": "code",
   "execution_count": 28,
   "id": "e34cbba2",
   "metadata": {},
   "outputs": [
    {
     "data": {
      "text/plain": [
       "12.808706183694113"
      ]
     },
     "execution_count": 28,
     "metadata": {},
     "output_type": "execute_result"
    }
   ],
   "source": [
    "# RMSE on the test set\n",
    "rmse_test = np.sqrt(mean_squared_error(y_test, y_pred_test))\n",
    "rmse_test"
   ]
  },
  {
   "cell_type": "code",
   "execution_count": 29,
   "id": "a10ed785",
   "metadata": {},
   "outputs": [
    {
     "data": {
      "text/plain": [
       "array([12.72677744, 15.12792732, 34.84061524, 13.72266065, 26.63471863,\n",
       "       16.87876558, 20.61546646, 34.50951113, 37.65373705, 17.52734181,\n",
       "       50.04253202, 16.04609142, 23.98072145, 16.48250905, 22.37638598,\n",
       "       29.58250532, 17.83590571, 16.15972177, 48.50187648, 23.70738039,\n",
       "       18.18230764, 38.68416595, 35.38745889, 19.64696063, 39.10185095,\n",
       "       16.94854746, 18.27730545, 22.60362779, 15.51151064, 14.23667636,\n",
       "       18.81541745, 23.49695868, 22.67329291, 40.42493601, 24.2683288 ,\n",
       "       17.08436375, 20.28099246, 33.33414112, 12.49972181, 24.67399164,\n",
       "       41.59387622, 19.93972956, 18.0515705 , 19.96859675, 21.10279577,\n",
       "       38.14723784, 24.00519668, 22.54435184, 23.86392829, 16.82891005,\n",
       "       23.86809923])"
      ]
     },
     "execution_count": 29,
     "metadata": {},
     "output_type": "execute_result"
    }
   ],
   "source": [
    "# The RMSE on the training set\n",
    "# Prediction on the training set\n",
    "y_pred_train = eNet_multiomics.predict(X_train)\n",
    "y_pred_train"
   ]
  },
  {
   "cell_type": "code",
   "execution_count": 30,
   "id": "44af93f7",
   "metadata": {},
   "outputs": [
    {
     "data": {
      "text/plain": [
       "7.244663977094903"
      ]
     },
     "execution_count": 30,
     "metadata": {},
     "output_type": "execute_result"
    }
   ],
   "source": [
    "# RMSE Train\n",
    "rmse_train = np.sqrt(mean_squared_error(y_train, y_pred_train))\n",
    "rmse_train"
   ]
  },
  {
   "cell_type": "code",
   "execution_count": 31,
   "id": "b9610923",
   "metadata": {},
   "outputs": [],
   "source": [
    "# Model tuning using ElasticNetCV\n",
    "from sklearn.linear_model import ElasticNetCV"
   ]
  },
  {
   "cell_type": "code",
   "execution_count": 37,
   "id": "3b977163",
   "metadata": {},
   "outputs": [],
   "source": [
    "# 10-folds CV\n",
    "eNet_multiomics_cv = ElasticNetCV(alphas = np.random.randint(10, 100, 10), cv = 10).fit(X_train, y_train)\n",
    "# Why do you choose to generate alphas randomly?"
   ]
  },
  {
   "cell_type": "code",
   "execution_count": 38,
   "id": "9d41b4a0",
   "metadata": {},
   "outputs": [
    {
     "data": {
      "text/plain": [
       "array([61, 94, 32, 83, 34, 60, 47, 77, 80, 51])"
      ]
     },
     "execution_count": 38,
     "metadata": {},
     "output_type": "execute_result"
    }
   ],
   "source": [
    "# Printing the scores\n",
    "eNet_multiomics_cv.alphas"
   ]
  },
  {
   "cell_type": "code",
   "execution_count": 39,
   "id": "8d9b9dba",
   "metadata": {},
   "outputs": [
    {
     "data": {
      "text/plain": [
       "94"
      ]
     },
     "execution_count": 39,
     "metadata": {},
     "output_type": "execute_result"
    }
   ],
   "source": [
    "# Printing optimal alpha\n",
    "eNet_multiomics_cv.alpha_"
   ]
  },
  {
   "cell_type": "code",
   "execution_count": 40,
   "id": "dbd10ae4",
   "metadata": {},
   "outputs": [],
   "source": [
    "# Creating a new model with the optimal alpha\n",
    "eNet_multiomics_tuned = ElasticNet().set_params(alpha = eNet_multiomics_cv.alpha_).fit(X_train, y_train)"
   ]
  },
  {
   "cell_type": "code",
   "execution_count": 41,
   "id": "64fdc0bb",
   "metadata": {},
   "outputs": [
    {
     "data": {
      "text/plain": [
       "array([24.33333333, 24.33333333, 24.33333333, 24.33333333, 24.33333333,\n",
       "       24.33333333, 24.33333333, 24.33333333, 24.33333333, 24.33333333,\n",
       "       24.33333333, 24.33333333, 24.33333333, 24.33333333, 24.33333333,\n",
       "       24.33333333, 24.33333333])"
      ]
     },
     "execution_count": 41,
     "metadata": {},
     "output_type": "execute_result"
    }
   ],
   "source": [
    "# Prediction on the test set\n",
    "y_pred_tuned = eNet_multiomics_tuned.predict(X_test)\n",
    "y_pred_tuned\n",
    "\n",
    "# Why is y_pred_tuned different from y_test?"
   ]
  },
  {
   "cell_type": "code",
   "execution_count": 140,
   "id": "f5d93444",
   "metadata": {},
   "outputs": [
    {
     "name": "stdout",
     "output_type": "stream",
     "text": [
      "Test set [17 11 15 11 15 17 46 43 10 18 11 15 48 18 28 48 45]\n",
      "Observed data [24.80392157 24.80392157 24.80392157 24.80392157 24.80392157 24.80392157\n",
      " 24.80392157 24.80392157 24.80392157 24.80392157 24.80392157 24.80392157\n",
      " 24.80392157 24.80392157 24.80392157 24.80392157 24.80392157]\n"
     ]
    },
    {
     "data": {
      "text/plain": [
       "14.487569079176598"
      ]
     },
     "execution_count": 140,
     "metadata": {},
     "output_type": "execute_result"
    }
   ],
   "source": [
    "# Computing the RMSE\n",
    "print('Test set', y_test)\n",
    "print('Observed data', y_pred_tuned)\n",
    "\n",
    "rmse_tuned = np.sqrt(mean_squared_error(y_test, y_pred_tuned))\n",
    "rmse_tuned"
   ]
  },
  {
   "cell_type": "code",
   "execution_count": 62,
   "id": "1ae5df1c",
   "metadata": {},
   "outputs": [],
   "source": [
    "import warnings;warnings.simplefilter('ignore')"
   ]
  },
  {
   "cell_type": "code",
   "execution_count": 66,
   "id": "ce22c0de",
   "metadata": {
    "scrolled": true
   },
   "outputs": [
    {
     "data": {
      "image/png": "[encoded data removed]",
      "text/plain": [
       "<Figure size 800x550 with 1 Axes>"
      ]
     },
     "metadata": {},
     "output_type": "display_data"
    }
   ],
   "source": [
    "# Plot of the observed and predicted values of gestational age\n",
    "\n",
    "x_ax = range(len(X_test))\n",
    "plt.plot(x_ax, y_test, lw = 0.5, color = 'blue', label = 'Observed')\n",
    "plt.plot(x_ax, y_pred_tuned, lw = 0.5, color = 'red', label = 'Predicted')\n",
    "plt.legend(loc='best')\n",
    "plt.grid()\n",
    "\n",
    "# This graph shows that there's something wrong somewhere"
   ]
  },
  {
   "cell_type": "markdown",
   "id": "121decde",
   "metadata": {},
   "source": [
    "Support Vector Regression"
   ]
  },
  {
   "cell_type": "code",
   "execution_count": 67,
   "id": "e7355bb8",
   "metadata": {},
   "outputs": [],
   "source": [
    "# Support Vector Regression\n",
    "from sklearn.svm import SVR"
   ]
  },
  {
   "cell_type": "code",
   "execution_count": 68,
   "id": "2fdb364d",
   "metadata": {},
   "outputs": [],
   "source": [
    "# Creating and fitting the SVR model\n",
    "y_svr = SVR().fit(X_train, y_train)"
   ]
  },
  {
   "cell_type": "code",
   "execution_count": 85,
   "id": "05d616d8",
   "metadata": {},
   "outputs": [
    {
     "name": "stdout",
     "output_type": "stream",
     "text": [
      "The r_sq is: 0.0206\n"
     ]
    }
   ],
   "source": [
    "# Print the R_sq\n",
    "print('The r_sq is: %.4f' % y_svr.score(X_train, y_train))"
   ]
  },
  {
   "cell_type": "code",
   "execution_count": 74,
   "id": "7e3c27f5",
   "metadata": {},
   "outputs": [],
   "source": [
    "# Training model evaluation\n",
    "from sklearn.metrics import mean_absolute_error, r2_score, explained_variance_score"
   ]
  },
  {
   "cell_type": "code",
   "execution_count": 75,
   "id": "92d3b5f4",
   "metadata": {},
   "outputs": [],
   "source": [
    "# Predicting on the training data\n",
    "y_train_pred = y_svr.predict(X_train)"
   ]
  },
  {
   "cell_type": "code",
   "execution_count": 86,
   "id": "7c56471b",
   "metadata": {},
   "outputs": [
    {
     "name": "stdout",
     "output_type": "stream",
     "text": [
      "The r_sq is: 0.0206\n"
     ]
    }
   ],
   "source": [
    "print('The r_sq is: %.4f'% r2_score(y_train, y_train_pred))"
   ]
  },
  {
   "cell_type": "code",
   "execution_count": 87,
   "id": "626a3284",
   "metadata": {},
   "outputs": [
    {
     "name": "stdout",
     "output_type": "stream",
     "text": [
      "The MAE is: 10.4088\n"
     ]
    }
   ],
   "source": [
    "# The MAE\n",
    "print('The MAE is: %.4f' % mean_absolute_error(y_train, y_train_pred))"
   ]
  },
  {
   "cell_type": "code",
   "execution_count": 88,
   "id": "38d4893a",
   "metadata": {},
   "outputs": [
    {
     "name": "stdout",
     "output_type": "stream",
     "text": [
      "The MSE is: 154.3651\n"
     ]
    }
   ],
   "source": [
    "# The MSE\n",
    "print('The MSE is: %.4f' % mean_squared_error(y_train, y_train_pred))"
   ]
  },
  {
   "cell_type": "code",
   "execution_count": 89,
   "id": "20b493df",
   "metadata": {},
   "outputs": [
    {
     "name": "stdout",
     "output_type": "stream",
     "text": [
      "The RMSE is: 12.4244\n"
     ]
    }
   ],
   "source": [
    "# The RMSE\n",
    "print('The RMSE is: %.4f' % np.sqrt(mean_squared_error(y_train, y_train_pred)))"
   ]
  },
  {
   "cell_type": "code",
   "execution_count": 90,
   "id": "c4ef69e1",
   "metadata": {},
   "outputs": [
    {
     "name": "stdout",
     "output_type": "stream",
     "text": [
      "The EVS is: 0.0220\n"
     ]
    }
   ],
   "source": [
    "# The explained variance score EVS\n",
    "print('The EVS is: %.4f' % explained_variance_score(y_train, y_train_pred))"
   ]
  },
  {
   "cell_type": "code",
   "execution_count": 81,
   "id": "3a407fce",
   "metadata": {},
   "outputs": [],
   "source": [
    "# Prediction on the test set\n",
    "y_test_pred = y_svr.predict(X_test)"
   ]
  },
  {
   "cell_type": "code",
   "execution_count": 82,
   "id": "ab46381a",
   "metadata": {},
   "outputs": [
    {
     "name": "stdout",
     "output_type": "stream",
     "text": [
      "[24.70949345 23.99031603 23.98547795 24.4509991  23.98617032 24.28123762\n",
      " 24.41947145 24.03882887 24.90073385 24.0668359 ]\n"
     ]
    }
   ],
   "source": [
    "print(y_test_pred[:10])"
   ]
  },
  {
   "cell_type": "code",
   "execution_count": 91,
   "id": "f6ff51aa",
   "metadata": {},
   "outputs": [
    {
     "name": "stdout",
     "output_type": "stream",
     "text": [
      "The r_sq is : 0.0049\n"
     ]
    }
   ],
   "source": [
    "# The coefficient of determination\n",
    "print('The r_sq is : %.4f' % r2_score(y_test, y_test_pred))"
   ]
  },
  {
   "cell_type": "code",
   "execution_count": 93,
   "id": "7fd80782",
   "metadata": {},
   "outputs": [
    {
     "name": "stdout",
     "output_type": "stream",
     "text": [
      "The r_sq is: 0.0049\n"
     ]
    }
   ],
   "source": [
    "print('The r_sq is: %.4f' % y_svr.score(X_test, y_test))"
   ]
  },
  {
   "cell_type": "code",
   "execution_count": 100,
   "id": "fef33cb1",
   "metadata": {},
   "outputs": [
    {
     "data": {
      "image/png": "[encoded data removed]",
      "text/plain": [
       "<Figure size 1000x600 with 1 Axes>"
      ]
     },
     "metadata": {},
     "output_type": "display_data"
    }
   ],
   "source": [
    "# Plotting the observed and predicted gestation age\n",
    "# Set the boundaries and other characteristics\n",
    "plt.rcParams['figure.figsize'] = (10, 6)\n",
    "x_ax = range(len(X_test))\n",
    "plt.plot(x_ax, y_test, label = 'Observed', color = 'k', linestyle = '-')\n",
    "plt.plot(x_ax, y_test_pred, label = 'Predicted', color = 'k', linestyle = '--')\n",
    "plt.ylabel('Gestation age')\n",
    "plt.xlabel('Test set')\n",
    "plt.legend(bbox_to_anchor = (0.5, -0.2), loc = 'lower center', ncol = 2, frameon = True)\n",
    "plt.show()"
   ]
  },
  {
   "cell_type": "code",
   "execution_count": 101,
   "id": "45d8e711",
   "metadata": {},
   "outputs": [
    {
     "data": {
      "image/png": "[encoded data removed]",
      "text/plain": [
       "<Figure size 1000x600 with 1 Axes>"
      ]
     },
     "metadata": {},
     "output_type": "display_data"
    },
    {
     "data": {
      "text/plain": [
       "<Axes: title={'center': 'Prediction Error for SVR'}, xlabel='$y$', ylabel='$\\\\hat{y}$'>"
      ]
     },
     "execution_count": 101,
     "metadata": {},
     "output_type": "execute_result"
    }
   ],
   "source": [
    "# Plotting the prediction errors and residuals \n",
    "# Prediction errors plot\n",
    "visualizer = PredictionError(y_svr)\n",
    "visualizer.fit(X_train, y_train)\n",
    "visualizer.score(X_test, y_test)\n",
    "visualizer.poof()"
   ]
  },
  {
   "cell_type": "code",
   "execution_count": 105,
   "id": "20c7f67e",
   "metadata": {},
   "outputs": [
    {
     "data": {
      "image/png": "[encoded data removed]",
      "text/plain": [
       "<Figure size 1000x600 with 2 Axes>"
      ]
     },
     "metadata": {},
     "output_type": "display_data"
    },
    {
     "data": {
      "text/plain": [
       "<Axes: title={'center': 'Residuals for SVR Model'}, xlabel='Predicted Value', ylabel='Residuals'>"
      ]
     },
     "execution_count": 105,
     "metadata": {},
     "output_type": "execute_result"
    }
   ],
   "source": [
    "# The residual plot\n",
    "#from yellowbrick.regressor import ResidualsPlot\n",
    "visualizer = ResidualsPlot(y_svr)\n",
    "visualizer.fit(X_train, y_train)\n",
    "visualizer.score(X_test, y_test)\n",
    "visualizer.poof()"
   ]
  },
  {
   "cell_type": "code",
   "execution_count": 107,
   "id": "228d1fc7",
   "metadata": {},
   "outputs": [
    {
     "name": "stdout",
     "output_type": "stream",
     "text": [
      "The MAE is: 12.98\n"
     ]
    }
   ],
   "source": [
    "# Testing model evaluation\n",
    "# The MAE\n",
    "print('The MAE is: %.4f' % mean_absolute_error(y_test, y_test_pred))"
   ]
  },
  {
   "cell_type": "code",
   "execution_count": 108,
   "id": "3d4452ee",
   "metadata": {},
   "outputs": [
    {
     "name": "stdout",
     "output_type": "stream",
     "text": [
      "The MSE is: 208.76\n"
     ]
    }
   ],
   "source": [
    "# The MSE\n",
    "print('The MSE is: %.4f' % mean_squared_error(y_test, y_test_pred))"
   ]
  },
  {
   "cell_type": "code",
   "execution_count": 109,
   "id": "ad0c92d4",
   "metadata": {},
   "outputs": [
    {
     "name": "stdout",
     "output_type": "stream",
     "text": [
      "The RMSE is: 14.45\n"
     ]
    }
   ],
   "source": [
    "# The RMSE\n",
    "print('The RMSE is: %.4f' % np.sqrt(mean_squared_error(y_test, y_test_pred)))"
   ]
  },
  {
   "cell_type": "code",
   "execution_count": 110,
   "id": "986ab0ab",
   "metadata": {},
   "outputs": [
    {
     "name": "stdout",
     "output_type": "stream",
     "text": [
      "The EVS is: 0.0050\n"
     ]
    }
   ],
   "source": [
    "# The EVS \n",
    "print('The EVS is: %.4f' % explained_variance_score(y_test, y_test_pred))"
   ]
  },
  {
   "cell_type": "code",
   "execution_count": 111,
   "id": "c1e5db6e",
   "metadata": {},
   "outputs": [],
   "source": [
    "# The k fold cross-validation \n",
    "from sklearn.model_selection import cross_val_score"
   ]
  },
  {
   "cell_type": "code",
   "execution_count": 113,
   "id": "deafe4b9",
   "metadata": {},
   "outputs": [
    {
     "data": {
      "text/plain": [
       "array([-5.27496208e+00,  5.51416717e-03,  1.31734383e-02, -2.77979940e+00,\n",
       "       -8.67092211e-02, -3.15869189e-01, -7.62990426e-01, -4.25373882e-02,\n",
       "       -1.47592861e+00,  2.79115329e-03])"
      ]
     },
     "execution_count": 113,
     "metadata": {},
     "output_type": "execute_result"
    }
   ],
   "source": [
    "# On the training dataset\n",
    "score_train = cross_val_score(y_svr, X_train, y_train, scoring = 'r2', cv = 10)\n",
    "score_train"
   ]
  },
  {
   "cell_type": "code",
   "execution_count": 114,
   "id": "8feb4679",
   "metadata": {},
   "outputs": [
    {
     "name": "stdout",
     "output_type": "stream",
     "text": [
      "-1.071731755152919\n"
     ]
    }
   ],
   "source": [
    "# Mean score\n",
    "print(np.mean(score_train))"
   ]
  },
  {
   "cell_type": "code",
   "execution_count": 115,
   "id": "05a46a2e",
   "metadata": {},
   "outputs": [
    {
     "data": {
      "text/plain": [
       "array([  -1.67710155,   -5.81409384,   -3.41315925, -339.22192399,\n",
       "         -0.63880508,   -6.07936972,   -1.14168451,           nan,\n",
       "                 nan,           nan])"
      ]
     },
     "execution_count": 115,
     "metadata": {},
     "output_type": "execute_result"
    }
   ],
   "source": [
    "# On the testing dataset\n",
    "score_test = cross_val_score(y_svr, X_test, y_test, scoring = 'r2', cv = 10)\n",
    "score_test"
   ]
  },
  {
   "cell_type": "code",
   "execution_count": 116,
   "id": "a2eadf15",
   "metadata": {},
   "outputs": [
    {
     "name": "stdout",
     "output_type": "stream",
     "text": [
      "nan\n"
     ]
    }
   ],
   "source": [
    "# The mean score\n",
    "print(np.mean(score_test))"
   ]
  },
  {
   "cell_type": "markdown",
   "id": "52ad8f7a-958f-44ec-8281-831e324b568d",
   "metadata": {},
   "source": [
    "### Sex of the baby"
   ]
  },
  {
   "cell_type": "markdown",
   "id": "5b3a9325-f608-4833-8795-b831fa02b603",
   "metadata": {},
   "source": [
    "1. Try using a neural network in Tensorflow or PyTorch to predict the sex of the baby. \n",
    "2. Try to optimize the network the bast you can (don't spend too much time on this though)."
   ]
  },
  {
   "cell_type": "markdown",
   "id": "23a2ee11-7db5-4672-a167-2970a51bbf21",
   "metadata": {},
   "source": []
  },
  {
   "cell_type": "markdown",
   "id": "c81ed739-b7e3-4109-a4ff-2a32fc1bf2e0",
   "metadata": {},
   "source": [
    "### Feedback"
   ]
  },
  {
   "cell_type": "markdown",
   "id": "2fd46904-f89c-44ee-9c4c-4c162f09d239",
   "metadata": {},
   "source": [
    "Were the tasks above difficult, easy, or a mixture? In both cases, briefly describe why."
   ]
  },
  {
   "cell_type": "code",
   "execution_count": null,
   "id": "665963ee-c99b-48d2-9f4c-082c1c5338d9",
   "metadata": {},
   "outputs": [],
   "source": []
  }
 ],
 "metadata": {
  "kernelspec": {
   "display_name": "Python 3 (ipykernel)",
   "language": "python",
   "name": "python3"
  },
  "language_info": {
   "codemirror_mode": {
    "name": "ipython",
    "version": 3
   },
   "file_extension": ".py",
   "mimetype": "text/x-python",
   "name": "python",
   "nbconvert_exporter": "python",
   "pygments_lexer": "ipython3",
   "version": "3.10.9"
  },
  "toc-autonumbering": true
 },
 "nbformat": 4,
 "nbformat_minor": 5
}
