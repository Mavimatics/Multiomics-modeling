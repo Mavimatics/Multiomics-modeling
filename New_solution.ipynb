{
 "cells": [
  {
   "cell_type": "markdown",
   "id": "4d21d1f2",
   "metadata": {},
   "source": [
    "### Import Libraries"
   ]
  },
  {
   "cell_type": "code",
   "execution_count": 1,
   "id": "792ffc0d",
   "metadata": {},
   "outputs": [],
   "source": [
    "import numpy as np\n",
    "import pickle\n",
    "\n",
    "from sklearn import linear_model\n",
    "from sklearn import metrics\n",
    "from sklearn import svm\n",
    "from sklearn.svm import LinearSVR\n",
    "from sklearn.pipeline import make_pipeline\n",
    "from sklearn.preprocessing import StandardScaler\n",
    "from sklearn.model_selection import train_test_split\n",
    "\n",
    "import matplotlib.pyplot as plt\n",
    "%matplotlib inline"
   ]
  },
  {
   "cell_type": "code",
   "execution_count": 2,
   "id": "cf66fa19",
   "metadata": {},
   "outputs": [
    {
     "name": "stdout",
     "output_type": "stream",
     "text": [
      "3.10.9 (main, Jan 11 2023, 09:18:18) [Clang 14.0.6 ]\n",
      "Python 3.10.9\n",
      "numpy:  1.24.2\n",
      "sklearn:  1.0.2\n"
     ]
    }
   ],
   "source": [
    "### Check version\n",
    "import sys\n",
    "import sklearn\n",
    "print(sys.version)\n",
    "!python --version\n",
    "print(\"numpy: \", np.__version__)\n",
    "print(\"sklearn: \", sklearn.__version__)"
   ]
  },
  {
   "cell_type": "code",
   "execution_count": 3,
   "id": "d16887a3",
   "metadata": {},
   "outputs": [
    {
     "data": {
      "text/html": [
       "<div>\n",
       "<style scoped>\n",
       "    .dataframe tbody tr th:only-of-type {\n",
       "        vertical-align: middle;\n",
       "    }\n",
       "\n",
       "    .dataframe tbody tr th {\n",
       "        vertical-align: top;\n",
       "    }\n",
       "\n",
       "    .dataframe thead tr th {\n",
       "        text-align: left;\n",
       "    }\n",
       "</style>\n",
       "<table border=\"1\" class=\"dataframe\">\n",
       "  <thead>\n",
       "    <tr>\n",
       "      <th></th>\n",
       "      <th>Training/Validation</th>\n",
       "      <th>Gates ID</th>\n",
       "      <th>MRN</th>\n",
       "      <th>Study Subject ID Number</th>\n",
       "      <th>Sex</th>\n",
       "      <th>sex_bin</th>\n",
       "      <th>timepoint</th>\n",
       "      <th>gestational_age</th>\n",
       "      <th colspan=\"2\" halign=\"left\">cellfree_rna</th>\n",
       "      <th>...</th>\n",
       "      <th colspan=\"10\" halign=\"left\">plasma_somalogic</th>\n",
       "    </tr>\n",
       "    <tr>\n",
       "      <th></th>\n",
       "      <th></th>\n",
       "      <th></th>\n",
       "      <th></th>\n",
       "      <th></th>\n",
       "      <th></th>\n",
       "      <th></th>\n",
       "      <th></th>\n",
       "      <th></th>\n",
       "      <th>0_C2orf76</th>\n",
       "      <th>1_ACTL10</th>\n",
       "      <th>...</th>\n",
       "      <th>1290_UBE2G2</th>\n",
       "      <th>1291_TAGLN2</th>\n",
       "      <th>1292_ATP5O</th>\n",
       "      <th>1293_POMC</th>\n",
       "      <th>1294_CRYZL1</th>\n",
       "      <th>1295_SERPINF1</th>\n",
       "      <th>1296_CTSF</th>\n",
       "      <th>1297_FTCD</th>\n",
       "      <th>1298_USP25</th>\n",
       "      <th>1299_PLXNB2</th>\n",
       "    </tr>\n",
       "  </thead>\n",
       "  <tbody>\n",
       "    <tr>\n",
       "      <th>0</th>\n",
       "      <td>T</td>\n",
       "      <td>PTLG002</td>\n",
       "      <td>16661779</td>\n",
       "      <td>10565</td>\n",
       "      <td>Male</td>\n",
       "      <td>1</td>\n",
       "      <td>1</td>\n",
       "      <td>11</td>\n",
       "      <td>0.312437</td>\n",
       "      <td>-1.892930e-16</td>\n",
       "      <td>...</td>\n",
       "      <td>4804.4</td>\n",
       "      <td>2233.0</td>\n",
       "      <td>3610.9</td>\n",
       "      <td>715.8</td>\n",
       "      <td>151.4</td>\n",
       "      <td>37885.8</td>\n",
       "      <td>1479.1</td>\n",
       "      <td>3261.8</td>\n",
       "      <td>561.3</td>\n",
       "      <td>3227.0</td>\n",
       "    </tr>\n",
       "    <tr>\n",
       "      <th>1</th>\n",
       "      <td>T</td>\n",
       "      <td>PTLG002</td>\n",
       "      <td>16661779</td>\n",
       "      <td>10565</td>\n",
       "      <td>Male</td>\n",
       "      <td>1</td>\n",
       "      <td>2</td>\n",
       "      <td>18</td>\n",
       "      <td>0.312437</td>\n",
       "      <td>-1.892930e-16</td>\n",
       "      <td>...</td>\n",
       "      <td>4086.0</td>\n",
       "      <td>2160.5</td>\n",
       "      <td>2260.4</td>\n",
       "      <td>825.2</td>\n",
       "      <td>161.0</td>\n",
       "      <td>41821.5</td>\n",
       "      <td>1465.1</td>\n",
       "      <td>1839.8</td>\n",
       "      <td>597.8</td>\n",
       "      <td>3366.0</td>\n",
       "    </tr>\n",
       "    <tr>\n",
       "      <th>2</th>\n",
       "      <td>T</td>\n",
       "      <td>PTLG002</td>\n",
       "      <td>16661779</td>\n",
       "      <td>10565</td>\n",
       "      <td>Male</td>\n",
       "      <td>1</td>\n",
       "      <td>3</td>\n",
       "      <td>32</td>\n",
       "      <td>0.312437</td>\n",
       "      <td>-1.892930e-16</td>\n",
       "      <td>...</td>\n",
       "      <td>4328.0</td>\n",
       "      <td>1818.4</td>\n",
       "      <td>2445.2</td>\n",
       "      <td>1241.8</td>\n",
       "      <td>194.6</td>\n",
       "      <td>45526.1</td>\n",
       "      <td>1428.3</td>\n",
       "      <td>3057.2</td>\n",
       "      <td>625.7</td>\n",
       "      <td>8703.7</td>\n",
       "    </tr>\n",
       "    <tr>\n",
       "      <th>3</th>\n",
       "      <td>T</td>\n",
       "      <td>PTLG002</td>\n",
       "      <td>16661779</td>\n",
       "      <td>10565</td>\n",
       "      <td>Male</td>\n",
       "      <td>1</td>\n",
       "      <td>4</td>\n",
       "      <td>45</td>\n",
       "      <td>0.312437</td>\n",
       "      <td>-1.892930e-16</td>\n",
       "      <td>...</td>\n",
       "      <td>3442.4</td>\n",
       "      <td>2661.4</td>\n",
       "      <td>3879.2</td>\n",
       "      <td>703.6</td>\n",
       "      <td>153.7</td>\n",
       "      <td>36862.5</td>\n",
       "      <td>1063.6</td>\n",
       "      <td>7339.7</td>\n",
       "      <td>593.2</td>\n",
       "      <td>2918.9</td>\n",
       "    </tr>\n",
       "    <tr>\n",
       "      <th>4</th>\n",
       "      <td>T</td>\n",
       "      <td>PTLG004</td>\n",
       "      <td>23587868</td>\n",
       "      <td>10603</td>\n",
       "      <td>Female</td>\n",
       "      <td>0</td>\n",
       "      <td>1</td>\n",
       "      <td>11</td>\n",
       "      <td>5.204209</td>\n",
       "      <td>1.734736e+00</td>\n",
       "      <td>...</td>\n",
       "      <td>4261.9</td>\n",
       "      <td>1804.6</td>\n",
       "      <td>1470.6</td>\n",
       "      <td>526.8</td>\n",
       "      <td>163.0</td>\n",
       "      <td>38938.3</td>\n",
       "      <td>1170.1</td>\n",
       "      <td>1036.8</td>\n",
       "      <td>552.8</td>\n",
       "      <td>3457.1</td>\n",
       "    </tr>\n",
       "  </tbody>\n",
       "</table>\n",
       "<p>5 rows × 61274 columns</p>\n",
       "</div>"
      ],
      "text/plain": [
       "  Training/Validation Gates ID       MRN Study Subject ID Number     Sex  \\\n",
       "                                                                           \n",
       "0                   T  PTLG002  16661779                   10565    Male   \n",
       "1                   T  PTLG002  16661779                   10565    Male   \n",
       "2                   T  PTLG002  16661779                   10565    Male   \n",
       "3                   T  PTLG002  16661779                   10565    Male   \n",
       "4                   T  PTLG004  23587868                   10603  Female   \n",
       "\n",
       "  sex_bin timepoint gestational_age cellfree_rna                ...  \\\n",
       "                                       0_C2orf76      1_ACTL10  ...   \n",
       "0       1         1              11     0.312437 -1.892930e-16  ...   \n",
       "1       1         2              18     0.312437 -1.892930e-16  ...   \n",
       "2       1         3              32     0.312437 -1.892930e-16  ...   \n",
       "3       1         4              45     0.312437 -1.892930e-16  ...   \n",
       "4       0         1              11     5.204209  1.734736e+00  ...   \n",
       "\n",
       "  plasma_somalogic                                                             \\\n",
       "       1290_UBE2G2 1291_TAGLN2 1292_ATP5O 1293_POMC 1294_CRYZL1 1295_SERPINF1   \n",
       "0           4804.4      2233.0     3610.9     715.8       151.4       37885.8   \n",
       "1           4086.0      2160.5     2260.4     825.2       161.0       41821.5   \n",
       "2           4328.0      1818.4     2445.2    1241.8       194.6       45526.1   \n",
       "3           3442.4      2661.4     3879.2     703.6       153.7       36862.5   \n",
       "4           4261.9      1804.6     1470.6     526.8       163.0       38938.3   \n",
       "\n",
       "                                              \n",
       "  1296_CTSF 1297_FTCD 1298_USP25 1299_PLXNB2  \n",
       "0    1479.1    3261.8      561.3      3227.0  \n",
       "1    1465.1    1839.8      597.8      3366.0  \n",
       "2    1428.3    3057.2      625.7      8703.7  \n",
       "3    1063.6    7339.7      593.2      2918.9  \n",
       "4    1170.1    1036.8      552.8      3457.1  \n",
       "\n",
       "[5 rows x 61274 columns]"
      ]
     },
     "execution_count": 3,
     "metadata": {},
     "output_type": "execute_result"
    }
   ],
   "source": [
    "# code for loading the data\n",
    "\n",
    "with open(\"task1_multiomics_data.pickle\", \"rb\") as file:\n",
    "    data_multiomics = pickle.load(file)\n",
    "    \n",
    "data_multiomics.head(5)"
   ]
  },
  {
   "cell_type": "code",
   "execution_count": 4,
   "id": "36813097",
   "metadata": {},
   "outputs": [
    {
     "data": {
      "text/html": [
       "<div>\n",
       "<style scoped>\n",
       "    .dataframe tbody tr th:only-of-type {\n",
       "        vertical-align: middle;\n",
       "    }\n",
       "\n",
       "    .dataframe tbody tr th {\n",
       "        vertical-align: top;\n",
       "    }\n",
       "\n",
       "    .dataframe thead th {\n",
       "        text-align: right;\n",
       "    }\n",
       "</style>\n",
       "<table border=\"1\" class=\"dataframe\">\n",
       "  <thead>\n",
       "    <tr style=\"text-align: right;\">\n",
       "      <th></th>\n",
       "      <th>0_Bcells</th>\n",
       "      <th>1_CD16+CD56-NKcells</th>\n",
       "      <th>2_CD4+Tcells_mem</th>\n",
       "      <th>3_CD4+Tcells_naive</th>\n",
       "      <th>4_CD4+Tcells</th>\n",
       "      <th>5_CD45RA+Tregs</th>\n",
       "      <th>6_CD45RA-Tregs</th>\n",
       "      <th>7_CD56+CD16-NKcells</th>\n",
       "      <th>8_CD7+NKcells</th>\n",
       "      <th>9_CD8+Tcells_mem</th>\n",
       "      <th>...</th>\n",
       "      <th>524_M-MDSC_STAT5_Unstim</th>\n",
       "      <th>525_mDCs_STAT5_Unstim</th>\n",
       "      <th>526_ncMCs_STAT5_Unstim</th>\n",
       "      <th>527_pDCs_STAT5_Unstim</th>\n",
       "      <th>528_Tbet+CD4+Tcells_mem_STAT5_Unstim</th>\n",
       "      <th>529_Tbet+CD4+Tcells_naive_STAT5_Unstim</th>\n",
       "      <th>530_Tbet+CD8+Tcells_mem_STAT5_Unstim</th>\n",
       "      <th>531_Tbet+CD8+Tcells_naive_STAT5_Unstim</th>\n",
       "      <th>532_TCRgd+Tcells_STAT5_Unstim</th>\n",
       "      <th>533_Tregs_STAT5_Unstim</th>\n",
       "    </tr>\n",
       "  </thead>\n",
       "  <tbody>\n",
       "    <tr>\n",
       "      <th>0</th>\n",
       "      <td>0.053164</td>\n",
       "      <td>0.054978</td>\n",
       "      <td>0.297875</td>\n",
       "      <td>0.136289</td>\n",
       "      <td>0.445832</td>\n",
       "      <td>0.002570</td>\n",
       "      <td>0.013848</td>\n",
       "      <td>0.007052</td>\n",
       "      <td>0.070836</td>\n",
       "      <td>0.118884</td>\n",
       "      <td>...</td>\n",
       "      <td>0.998954</td>\n",
       "      <td>0.953637</td>\n",
       "      <td>1.082629</td>\n",
       "      <td>0.808610</td>\n",
       "      <td>0.504269</td>\n",
       "      <td>0.757424</td>\n",
       "      <td>0.462045</td>\n",
       "      <td>0.454665</td>\n",
       "      <td>0.443859</td>\n",
       "      <td>0.529431</td>\n",
       "    </tr>\n",
       "    <tr>\n",
       "      <th>1</th>\n",
       "      <td>0.052857</td>\n",
       "      <td>0.069794</td>\n",
       "      <td>0.279917</td>\n",
       "      <td>0.140350</td>\n",
       "      <td>0.430839</td>\n",
       "      <td>0.002470</td>\n",
       "      <td>0.010923</td>\n",
       "      <td>0.004759</td>\n",
       "      <td>0.080245</td>\n",
       "      <td>0.127831</td>\n",
       "      <td>...</td>\n",
       "      <td>0.930847</td>\n",
       "      <td>0.822618</td>\n",
       "      <td>0.931126</td>\n",
       "      <td>0.728738</td>\n",
       "      <td>0.613059</td>\n",
       "      <td>0.852393</td>\n",
       "      <td>0.506981</td>\n",
       "      <td>0.474408</td>\n",
       "      <td>0.491691</td>\n",
       "      <td>0.574133</td>\n",
       "    </tr>\n",
       "    <tr>\n",
       "      <th>2</th>\n",
       "      <td>0.053202</td>\n",
       "      <td>0.050829</td>\n",
       "      <td>0.277997</td>\n",
       "      <td>0.187659</td>\n",
       "      <td>0.479078</td>\n",
       "      <td>0.003473</td>\n",
       "      <td>0.013359</td>\n",
       "      <td>0.005302</td>\n",
       "      <td>0.063781</td>\n",
       "      <td>0.104513</td>\n",
       "      <td>...</td>\n",
       "      <td>1.077824</td>\n",
       "      <td>0.970954</td>\n",
       "      <td>1.011011</td>\n",
       "      <td>0.749277</td>\n",
       "      <td>0.752882</td>\n",
       "      <td>0.813249</td>\n",
       "      <td>0.560379</td>\n",
       "      <td>0.481862</td>\n",
       "      <td>0.505706</td>\n",
       "      <td>0.640245</td>\n",
       "    </tr>\n",
       "    <tr>\n",
       "      <th>3</th>\n",
       "      <td>0.049906</td>\n",
       "      <td>0.090496</td>\n",
       "      <td>0.266336</td>\n",
       "      <td>0.156263</td>\n",
       "      <td>0.432904</td>\n",
       "      <td>0.003071</td>\n",
       "      <td>0.014459</td>\n",
       "      <td>0.004318</td>\n",
       "      <td>0.101386</td>\n",
       "      <td>0.115243</td>\n",
       "      <td>...</td>\n",
       "      <td>0.976888</td>\n",
       "      <td>0.918164</td>\n",
       "      <td>1.028114</td>\n",
       "      <td>0.790166</td>\n",
       "      <td>0.505349</td>\n",
       "      <td>0.648406</td>\n",
       "      <td>0.464522</td>\n",
       "      <td>0.445444</td>\n",
       "      <td>0.438285</td>\n",
       "      <td>0.573058</td>\n",
       "    </tr>\n",
       "    <tr>\n",
       "      <th>4</th>\n",
       "      <td>0.103067</td>\n",
       "      <td>0.004128</td>\n",
       "      <td>0.162746</td>\n",
       "      <td>0.103950</td>\n",
       "      <td>0.270840</td>\n",
       "      <td>0.003198</td>\n",
       "      <td>0.007988</td>\n",
       "      <td>0.007153</td>\n",
       "      <td>0.090763</td>\n",
       "      <td>0.057064</td>\n",
       "      <td>...</td>\n",
       "      <td>0.890405</td>\n",
       "      <td>0.800468</td>\n",
       "      <td>1.067789</td>\n",
       "      <td>0.563615</td>\n",
       "      <td>0.464563</td>\n",
       "      <td>1.004497</td>\n",
       "      <td>0.378557</td>\n",
       "      <td>0.423530</td>\n",
       "      <td>0.332368</td>\n",
       "      <td>0.447904</td>\n",
       "    </tr>\n",
       "  </tbody>\n",
       "</table>\n",
       "<p>5 rows × 534 columns</p>\n",
       "</div>"
      ],
      "text/plain": [
       "   0_Bcells  1_CD16+CD56-NKcells  2_CD4+Tcells_mem  3_CD4+Tcells_naive  \\\n",
       "0  0.053164             0.054978          0.297875            0.136289   \n",
       "1  0.052857             0.069794          0.279917            0.140350   \n",
       "2  0.053202             0.050829          0.277997            0.187659   \n",
       "3  0.049906             0.090496          0.266336            0.156263   \n",
       "4  0.103067             0.004128          0.162746            0.103950   \n",
       "\n",
       "   4_CD4+Tcells  5_CD45RA+Tregs  6_CD45RA-Tregs  7_CD56+CD16-NKcells  \\\n",
       "0      0.445832        0.002570        0.013848             0.007052   \n",
       "1      0.430839        0.002470        0.010923             0.004759   \n",
       "2      0.479078        0.003473        0.013359             0.005302   \n",
       "3      0.432904        0.003071        0.014459             0.004318   \n",
       "4      0.270840        0.003198        0.007988             0.007153   \n",
       "\n",
       "   8_CD7+NKcells  9_CD8+Tcells_mem  ...  524_M-MDSC_STAT5_Unstim  \\\n",
       "0       0.070836          0.118884  ...                 0.998954   \n",
       "1       0.080245          0.127831  ...                 0.930847   \n",
       "2       0.063781          0.104513  ...                 1.077824   \n",
       "3       0.101386          0.115243  ...                 0.976888   \n",
       "4       0.090763          0.057064  ...                 0.890405   \n",
       "\n",
       "   525_mDCs_STAT5_Unstim  526_ncMCs_STAT5_Unstim  527_pDCs_STAT5_Unstim  \\\n",
       "0               0.953637                1.082629               0.808610   \n",
       "1               0.822618                0.931126               0.728738   \n",
       "2               0.970954                1.011011               0.749277   \n",
       "3               0.918164                1.028114               0.790166   \n",
       "4               0.800468                1.067789               0.563615   \n",
       "\n",
       "   528_Tbet+CD4+Tcells_mem_STAT5_Unstim  \\\n",
       "0                              0.504269   \n",
       "1                              0.613059   \n",
       "2                              0.752882   \n",
       "3                              0.505349   \n",
       "4                              0.464563   \n",
       "\n",
       "   529_Tbet+CD4+Tcells_naive_STAT5_Unstim  \\\n",
       "0                                0.757424   \n",
       "1                                0.852393   \n",
       "2                                0.813249   \n",
       "3                                0.648406   \n",
       "4                                1.004497   \n",
       "\n",
       "   530_Tbet+CD8+Tcells_mem_STAT5_Unstim  \\\n",
       "0                              0.462045   \n",
       "1                              0.506981   \n",
       "2                              0.560379   \n",
       "3                              0.464522   \n",
       "4                              0.378557   \n",
       "\n",
       "   531_Tbet+CD8+Tcells_naive_STAT5_Unstim  532_TCRgd+Tcells_STAT5_Unstim  \\\n",
       "0                                0.454665                       0.443859   \n",
       "1                                0.474408                       0.491691   \n",
       "2                                0.481862                       0.505706   \n",
       "3                                0.445444                       0.438285   \n",
       "4                                0.423530                       0.332368   \n",
       "\n",
       "   533_Tregs_STAT5_Unstim  \n",
       "0                0.529431  \n",
       "1                0.574133  \n",
       "2                0.640245  \n",
       "3                0.573058  \n",
       "4                0.447904  \n",
       "\n",
       "[5 rows x 534 columns]"
      ]
     },
     "execution_count": 4,
     "metadata": {},
     "output_type": "execute_result"
    }
   ],
   "source": [
    "# look at the immune system\n",
    "data_multiomics[\"immune_system\"].head(5)"
   ]
  },
  {
   "cell_type": "code",
   "execution_count": 5,
   "id": "53285137",
   "metadata": {},
   "outputs": [
    {
     "name": "stdout",
     "output_type": "stream",
     "text": [
      "The input shape is: \n",
      " (68, 534)\n",
      "The output shape is: \n",
      " (68,)\n"
     ]
    }
   ],
   "source": [
    "# Define the input and output features\n",
    "# Input feature\n",
    "X = np.array(data_multiomics[\"immune_system\"])\n",
    "print(\"The input shape is: \\n\", X.shape)\n",
    "\n",
    "# Output feature\n",
    "y = np.array(data_multiomics[\"gestational_age\"]) \n",
    "print(\"The output shape is: \\n\", y.shape)"
   ]
  },
  {
   "cell_type": "code",
   "execution_count": 6,
   "id": "6869169e",
   "metadata": {},
   "outputs": [],
   "source": [
    "# Split dataset into training and test set\n",
    "X_train, X_test, y_train, y_test = train_test_split(X, y, test_size = 0.25, random_state = 0)"
   ]
  },
  {
   "cell_type": "code",
   "execution_count": 7,
   "id": "2a03a831",
   "metadata": {},
   "outputs": [],
   "source": [
    "# Run some statistical tests\n",
    "# Check for correlation\n",
    "\n",
    "# Feature Scaling \n",
    "from sklearn.preprocessing import StandardScaler\n",
    "\n",
    "scaler = StandardScaler()\n",
    "X_train = scaler.fit_transform(X_train)\n",
    "X_test = scaler.fit_transform(X_test)"
   ]
  },
  {
   "cell_type": "markdown",
   "id": "d1ac3d25",
   "metadata": {},
   "source": [
    "### Is it not advisable to first examine the distribution of the dataset before selecting a model?"
   ]
  },
  {
   "cell_type": "code",
   "execution_count": 8,
   "id": "8d15e4d8",
   "metadata": {},
   "outputs": [
    {
     "name": "stdout",
     "output_type": "stream",
     "text": [
      "MSE: \n",
      " 84.61759476679482\n",
      "RMSE: \n",
      " 9.198782243688282\n",
      "The target set is given by: \n",
      " [11 46 11 26 45 15 25 11 43 27  8 18 47 28 10 11 11]\n",
      "The prediction is given by: \n",
      " [19. 38. 25. 22. 33. 19. 27. 18. 40. 30. 12. 21. 31. 28. 11. 21. 34.]\n"
     ]
    }
   ],
   "source": [
    "# ElasticNet\n",
    "\n",
    "eNet_multiomics = linear_model.ElasticNet(l1_ratio = 0.5, alpha = 0.1, random_state = 0)\n",
    "eNet_multiomics.fit(X_train, y_train) # Model fitting using the training set\n",
    "y_pred = eNet_multiomics.predict(X_test) # Model prediction using the test set\n",
    "\n",
    "print(\"MSE: \\n\", metrics.mean_squared_error(y_test, y_pred))\n",
    "print(\"RMSE: \\n\", np.sqrt(metrics.mean_squared_error(y_test, y_pred)))\n",
    "print(\"The target set is given by: \\n\", y_test)\n",
    "print(\"The prediction is given by: \\n\", y_pred.round(0))"
   ]
  },
  {
   "cell_type": "code",
   "execution_count": 17,
   "id": "4cb443c1",
   "metadata": {},
   "outputs": [
    {
     "data": {
      "image/png": "[encoded data removed]",
      "text/plain": [
       "<Figure size 640x480 with 1 Axes>"
      ]
     },
     "metadata": {},
     "output_type": "display_data"
    }
   ],
   "source": [
    "# Plot of the observed and predicted values of gestational age\n",
    "\n",
    "x_ax = range(len(X_test))\n",
    "plt.plot(x_ax, y_test, lw = 0.5, color = 'blue', label = 'Observed')\n",
    "plt.plot(x_ax, y_pred, lw = 0.5, color = 'red', label = 'Predicted')\n",
    "plt.legend(loc='best')\n",
    "plt.grid()"
   ]
  },
  {
   "cell_type": "code",
   "execution_count": 11,
   "id": "c7a1d716",
   "metadata": {},
   "outputs": [],
   "source": [
    "import warnings;warnings.simplefilter('ignore')"
   ]
  },
  {
   "cell_type": "code",
   "execution_count": 12,
   "id": "48ff030e",
   "metadata": {},
   "outputs": [
    {
     "name": "stdout",
     "output_type": "stream",
     "text": [
      "MSE: \n",
      " 113.95453175797762\n",
      "RMSE: \n",
      " 10.674948794161853\n",
      "The target set is given by: \n",
      " [11 46 11 26 45 15 25 11 43 27  8 18 47 28 10 11 11]\n",
      "The prediction is given by: \n",
      " [23. 38. 26. 19. 28. 23. 23. 17. 36. 23.  7. 25. 38. 26. 18. 23. 37.]\n"
     ]
    }
   ],
   "source": [
    "# ElasticNetCV\n",
    "\n",
    "eNetcv_multiomics = linear_model.ElasticNetCV(l1_ratio = [1e-5, 1e-4, 1e-3, 1e-2, 1e-1, 0.0, 1.0, 10.0, 100.0], \n",
    "                                              alphas = [1e-5, 1e-4, 1e-3, 1e-2, 1e-1, 0.0, 1.0], \n",
    "                                              random_state = 0)\n",
    "eNetcv_multiomics.fit(X_train, y_train) # Model fitting using the training set\n",
    "y_predcv = eNetcv_multiomics.predict(X_test) # Model prediction using the test set\n",
    "\n",
    "print(\"MSE: \\n\", metrics.mean_squared_error(y_test, y_predcv))\n",
    "print(\"RMSE: \\n\", np.sqrt(metrics.mean_squared_error(y_test, y_predcv)))\n",
    "print(\"The target set is given by: \\n\", y_test)\n",
    "print(\"The prediction is given by: \\n\", y_predcv.round(0))"
   ]
  },
  {
   "cell_type": "code",
   "execution_count": 13,
   "id": "f71bda98",
   "metadata": {},
   "outputs": [
    {
     "name": "stdout",
     "output_type": "stream",
     "text": [
      "The optimal alpha is: \n",
      " 1.0\n"
     ]
    }
   ],
   "source": [
    "# Printing the optimal alpha\n",
    "print(\"The optimal alpha is: \\n\", eNetcv_multiomics.alpha_)"
   ]
  },
  {
   "cell_type": "code",
   "execution_count": 15,
   "id": "fad075e8",
   "metadata": {
    "scrolled": true
   },
   "outputs": [
    {
     "name": "stdout",
     "output_type": "stream",
     "text": [
      "MSE: \n",
      " 126.53544502911507\n",
      "RMSE: \n",
      " 11.24879749258182\n",
      "The target set is given by: \n",
      " [11 46 11 26 45 15 25 11 43 27  8 18 47 28 10 11 11]\n",
      "The prediction is given by: \n",
      " [25. 35. 26. 19. 30. 23. 23. 17. 38. 24.  8. 25. 32. 25. 18. 25. 37.]\n"
     ]
    }
   ],
   "source": [
    "# Creating a new model with the optimal alpha\n",
    "eNet_tuned_multiomics = linear_model.ElasticNet(l1_ratio = 0.5, alpha = eNetcv_multiomics.alpha_, random_state = 0)\n",
    "eNet_tuned_multiomics.fit(X_train, y_train) # Model fitting using the training set\n",
    "y_tuned_pred = eNet_tuned_multiomics.predict(X_test) # Model prediction using the test set\n",
    "\n",
    "print(\"MSE: \\n\", metrics.mean_squared_error(y_test, y_tuned_pred))\n",
    "print(\"RMSE: \\n\", np.sqrt(metrics.mean_squared_error(y_test, y_tuned_pred)))\n",
    "print(\"The target set is given by: \\n\", y_test)\n",
    "print(\"The prediction is given by: \\n\", y_tuned_pred.round(0))"
   ]
  },
  {
   "cell_type": "code",
   "execution_count": 16,
   "id": "50fbeed1",
   "metadata": {},
   "outputs": [
    {
     "data": {
      "image/png": "[encoded data removed]",
      "text/plain": [
       "<Figure size 640x480 with 1 Axes>"
      ]
     },
     "metadata": {},
     "output_type": "display_data"
    }
   ],
   "source": [
    "# Plot of the observed and predicted values of gestational age\n",
    "\n",
    "x_ax = range(len(X_test))\n",
    "plt.plot(x_ax, y_test, lw = 0.5, color = 'blue', label = 'Observed')\n",
    "plt.plot(x_ax, y_tuned_pred, lw = 0.5, color = 'red', label = 'Predicted')\n",
    "plt.legend(loc='best')\n",
    "plt.grid()"
   ]
  },
  {
   "cell_type": "markdown",
   "id": "9d269b80",
   "metadata": {},
   "source": [
    " From the figure above is looks like the ElasticNet Regression Model does not give good prediction of the target set, the question now is why?"
   ]
  },
  {
   "cell_type": "markdown",
   "id": "4a535977",
   "metadata": {},
   "source": [
    "# Support Vector Regression Model (Incorrect!)"
   ]
  },
  {
   "cell_type": "code",
   "execution_count": 13,
   "id": "fd9eb315",
   "metadata": {},
   "outputs": [
    {
     "name": "stdout",
     "output_type": "stream",
     "text": [
      "MSE: \n",
      " 312.52941176470586\n",
      "RMSE: \n",
      " 17.678501400421528\n",
      "The target set is given by: \n",
      " [11 46 11 26 45 15 25 11 43 27  8 18 47 28 10 11 11]\n",
      "The prediction is given by: \n",
      " [27 24 16 18 11 28 16 15 17 15 11 28 19 16 17 11 45]\n",
      "The SVM scores is given by: \n",
      "  0.058823529411764705\n"
     ]
    }
   ],
   "source": [
    "# Support Vector Regression\n",
    "\n",
    "#svm_multiomics = svm.LinearSVR()\n",
    "#svm_multiomics = make_pipeline(StandardScaler(), \n",
    "#                              LinearSVR(random_state = 0, tol = 1e-5))\n",
    "svm_multiomics = svm.SVC(kernel = 'linear', C = 1, random_state = 0) # why random_state = 42?\n",
    "svm_multiomics.fit(X_train, y_train) # Model fitting using the training set\n",
    "y_svm_pred = svm_multiomics.predict(X_test) # Model prediction using the test set\n",
    "svm_score = svm_multiomics.score(X_test, y_test)\n",
    "\n",
    "print(\"MSE: \\n\", metrics.mean_squared_error(y_test, y_svm_pred))\n",
    "print(\"RMSE: \\n\", np.sqrt(metrics.mean_squared_error(y_test, y_svm_pred)))\n",
    "print(\"The target set is given by: \\n\", y_test)\n",
    "print(\"The prediction is given by: \\n\", y_svm_pred.round(0))\n",
    "print(\"The SVM scores is given by: \\n \", svm_score)"
   ]
  },
  {
   "cell_type": "code",
   "execution_count": 14,
   "id": "518dbcec",
   "metadata": {},
   "outputs": [],
   "source": [
    "# The k-fold cross validation\n",
    "from sklearn.model_selection import cross_val_score\n",
    "from sklearn.model_selection import cross_val_predict"
   ]
  },
  {
   "cell_type": "code",
   "execution_count": 137,
   "id": "61f555fe",
   "metadata": {
    "scrolled": true
   },
   "outputs": [],
   "source": [
    "# On the training dataset\n",
    "#score_train = cross_val_score(svm_multiomics, X_train, y_train, scoring = 'r2', cv = 5)\n",
    "#score_train"
   ]
  },
  {
   "cell_type": "code",
   "execution_count": 15,
   "id": "8c20ccdd",
   "metadata": {
    "scrolled": true
   },
   "outputs": [
    {
     "name": "stderr",
     "output_type": "stream",
     "text": [
      "/Users/maviano/miniconda3/lib/python3.10/site-packages/sklearn/model_selection/_split.py:676: UserWarning: The least populated class in y has only 1 members, which is less than n_splits=5.\n",
      "  warnings.warn(\n"
     ]
    },
    {
     "data": {
      "text/plain": [
       "array([0.        , 0.07142857, 0.14285714, 0.        , 0.15384615])"
      ]
     },
     "execution_count": 15,
     "metadata": {},
     "output_type": "execute_result"
    }
   ],
   "source": [
    "scores = cross_val_score(svm_multiomics, X, y, cv=5)\n",
    "scores"
   ]
  },
  {
   "cell_type": "code",
   "execution_count": 16,
   "id": "dd236623",
   "metadata": {},
   "outputs": [
    {
     "name": "stdout",
     "output_type": "stream",
     "text": [
      "0.07 accuracy with a standard deviation of 0.07\n"
     ]
    }
   ],
   "source": [
    "print(\"%0.2f accuracy with a standard deviation of %0.2f\" % (scores.mean(), scores.std()))"
   ]
  },
  {
   "cell_type": "code",
   "execution_count": 17,
   "id": "01f16790",
   "metadata": {},
   "outputs": [],
   "source": [
    "# Mean score\n",
    "#print(np.mean(score_train))"
   ]
  },
  {
   "cell_type": "code",
   "execution_count": 18,
   "id": "20333867",
   "metadata": {
    "scrolled": true
   },
   "outputs": [
    {
     "name": "stdout",
     "output_type": "stream",
     "text": [
      "MSE: \n",
      " 561.4117647058823\n",
      "RMSE: \n",
      " 23.694129329981347\n",
      "The target set is given by: \n",
      " [11 46 11 26 45 15 25 11 43 27  8 18 47 28 10 11 11]\n",
      "The prediction is given by: \n",
      " [10 47 47 11 11 11 45 27 10 11 25 45 11 11 43 45 11]\n"
     ]
    },
    {
     "name": "stderr",
     "output_type": "stream",
     "text": [
      "/Users/maviano/miniconda3/lib/python3.10/site-packages/sklearn/model_selection/_split.py:676: UserWarning: The least populated class in y has only 1 members, which is less than n_splits=5.\n",
      "  warnings.warn(\n"
     ]
    }
   ],
   "source": [
    "# Printing the scores on the test dataset\n",
    "# First: Prediction\n",
    "pred = cross_val_predict(svm_multiomics, X_test, y_test)\n",
    "print(\"MSE: \\n\", metrics.mean_squared_error(y_test, pred))\n",
    "print(\"RMSE: \\n\", np.sqrt(metrics.mean_squared_error(y_test, pred)))\n",
    "print(\"The target set is given by: \\n\", y_test)\n",
    "print(\"The prediction is given by: \\n\", pred.round(0))"
   ]
  },
  {
   "cell_type": "code",
   "execution_count": 140,
   "id": "5574386d",
   "metadata": {},
   "outputs": [
    {
     "data": {
      "image/png": "[encoded data removed]",
      "text/plain": [
       "<Figure size 640x480 with 1 Axes>"
      ]
     },
     "metadata": {},
     "output_type": "display_data"
    }
   ],
   "source": [
    "# Plot of the observed and predicted values of gestational age\n",
    "\n",
    "x_ax = range(len(X_test))\n",
    "plt.plot(x_ax, y_test, lw = 0.5, color = 'blue', label = 'Observed')\n",
    "plt.plot(x_ax, pred, lw = 0.5, color = 'red', label = 'Predicted')\n",
    "plt.legend(loc='best')\n",
    "plt.grid()"
   ]
  },
  {
   "cell_type": "markdown",
   "id": "ce107ed6",
   "metadata": {},
   "source": [
    "Figure. 2 above looks better but it is still not an appropriate approximation."
   ]
  },
  {
   "cell_type": "markdown",
   "id": "a9976d58",
   "metadata": {},
   "source": [
    "# Lasso Regression"
   ]
  },
  {
   "cell_type": "code",
   "execution_count": 19,
   "id": "0dfa0c1f",
   "metadata": {},
   "outputs": [
    {
     "name": "stdout",
     "output_type": "stream",
     "text": [
      "Total coefficients: \n",
      " 534\n",
      "Non-zero coefficients: \n",
      " 26\n"
     ]
    },
    {
     "name": "stderr",
     "output_type": "stream",
     "text": [
      "/Users/maviano/miniconda3/lib/python3.10/site-packages/sklearn/linear_model/_base.py:141: FutureWarning: 'normalize' was deprecated in version 1.0 and will be removed in 1.2.\n",
      "If you wish to scale the data, use Pipeline with a StandardScaler in a preprocessing stage. To reproduce the previous behavior:\n",
      "\n",
      "from sklearn.pipeline import make_pipeline\n",
      "\n",
      "model = make_pipeline(StandardScaler(with_mean=False), Lasso())\n",
      "\n",
      "If you wish to pass a sample_weight parameter, you need to pass it as a fit parameter to each step of the pipeline as follows:\n",
      "\n",
      "kwargs = {s[0] + '__sample_weight': sample_weight for s in model.steps}\n",
      "model.fit(X, y, **kwargs)\n",
      "\n",
      "Set parameter alpha to: original_alpha * np.sqrt(n_samples). \n",
      "  warnings.warn(\n"
     ]
    }
   ],
   "source": [
    "lr_multiomics = linear_model.Lasso(alpha = 0.1, normalize = True)\n",
    "lr_multiomics.fit(X_train, y_train)\n",
    "\n",
    "print(\"Total coefficients: \\n\", len(lr_multiomics.coef_))\n",
    "print(\"Non-zero coefficients: \\n\", np.count_nonzero(lr_multiomics.coef_))"
   ]
  },
  {
   "cell_type": "code",
   "execution_count": 20,
   "id": "0c0b99c3",
   "metadata": {},
   "outputs": [
    {
     "name": "stdout",
     "output_type": "stream",
     "text": [
      "MSE: \n",
      " 96.91018833484452\n",
      "RMSE: \n",
      " 9.844297249415243\n",
      "The target set is given by: \n",
      " [11 46 11 26 45 15 25 11 43 27  8 18 47 28 10 11 11]\n",
      "The prediction is given by: \n",
      " [21. 38. 25. 21. 28. 21. 25. 17. 38. 24.  7. 26. 39. 26. 17. 22. 35.]\n"
     ]
    }
   ],
   "source": [
    "y_lr_pred = lr_multiomics.predict(X_test)\n",
    "\n",
    "print(\"MSE: \\n\", metrics.mean_squared_error(y_test, y_lr_pred))\n",
    "print(\"RMSE: \\n\", np.sqrt(metrics.mean_squared_error(y_test, y_lr_pred)))\n",
    "print(\"The target set is given by: \\n\", y_test)\n",
    "print(\"The prediction is given by: \\n\", y_lr_pred.round(0))"
   ]
  },
  {
   "cell_type": "markdown",
   "id": "4067003b",
   "metadata": {},
   "source": [
    "### CV"
   ]
  },
  {
   "cell_type": "code",
   "execution_count": 21,
   "id": "216009ce",
   "metadata": {},
   "outputs": [
    {
     "name": "stdout",
     "output_type": "stream",
     "text": [
      "MSE: \n",
      " 154.5389175183426\n",
      "RMSE: \n",
      " 12.431368288259446\n",
      "The target set is given by: \n",
      " [11 46 11 26 45 15 25 11 43 27  8 18 47 28 10 11 11]\n",
      "The prediction is given by: \n",
      " [27. 31. 28. 23. 24. 26. 22. 23. 28. 24. 16. 22. 37. 24. 21. 20. 34.]\n"
     ]
    },
    {
     "name": "stderr",
     "output_type": "stream",
     "text": [
      "/Users/maviano/miniconda3/lib/python3.10/site-packages/sklearn/linear_model/_base.py:141: FutureWarning: 'normalize' was deprecated in version 1.0 and will be removed in 1.2.\n",
      "If you wish to scale the data, use Pipeline with a StandardScaler in a preprocessing stage. To reproduce the previous behavior:\n",
      "\n",
      "from sklearn.pipeline import make_pipeline\n",
      "\n",
      "model = make_pipeline(StandardScaler(with_mean=False), Lasso())\n",
      "\n",
      "If you wish to pass a sample_weight parameter, you need to pass it as a fit parameter to each step of the pipeline as follows:\n",
      "\n",
      "kwargs = {s[0] + '__sample_weight': sample_weight for s in model.steps}\n",
      "model.fit(X, y, **kwargs)\n",
      "\n",
      "Set parameter alpha to: original_alpha * np.sqrt(n_samples). \n",
      "  warnings.warn(\n"
     ]
    }
   ],
   "source": [
    "lr_cv_multiomics = linear_model.LassoCV(alphas = [0.5, 0.6, 0.7, 0.8, 0.9], normalize = True)\n",
    "lr_cv_multiomics.fit(X_train, y_train)\n",
    "y_lr_cv_pred = lr_cv_multiomics.predict(X_test)\n",
    "\n",
    "print(\"MSE: \\n\", metrics.mean_squared_error(y_test, y_lr_cv_pred))\n",
    "print(\"RMSE: \\n\", np.sqrt(metrics.mean_squared_error(y_test, y_lr_cv_pred)))\n",
    "print(\"The target set is given by: \\n\", y_test)\n",
    "print(\"The prediction is given by: \\n\", y_lr_cv_pred.round(0))"
   ]
  },
  {
   "cell_type": "code",
   "execution_count": 22,
   "id": "5abf864e",
   "metadata": {},
   "outputs": [
    {
     "name": "stdout",
     "output_type": "stream",
     "text": [
      "The optimal alpha is: \n",
      " 0.5\n"
     ]
    }
   ],
   "source": [
    "# Printing the optimal alpha\n",
    "print(\"The optimal alpha is: \\n\", lr_cv_multiomics.alpha_)"
   ]
  },
  {
   "cell_type": "code",
   "execution_count": 23,
   "id": "b5c22b7c",
   "metadata": {},
   "outputs": [
    {
     "name": "stdout",
     "output_type": "stream",
     "text": [
      "MSE: \n",
      " 154.5389175183426\n",
      "RMSE: \n",
      " 12.431368288259446\n",
      "The target set is given by: \n",
      " [11 46 11 26 45 15 25 11 43 27  8 18 47 28 10 11 11]\n",
      "The prediction is given by: \n",
      " [27. 31. 28. 23. 24. 26. 22. 23. 28. 24. 16. 22. 37. 24. 21. 20. 34.]\n"
     ]
    },
    {
     "name": "stderr",
     "output_type": "stream",
     "text": [
      "/Users/maviano/miniconda3/lib/python3.10/site-packages/sklearn/linear_model/_base.py:141: FutureWarning: 'normalize' was deprecated in version 1.0 and will be removed in 1.2.\n",
      "If you wish to scale the data, use Pipeline with a StandardScaler in a preprocessing stage. To reproduce the previous behavior:\n",
      "\n",
      "from sklearn.pipeline import make_pipeline\n",
      "\n",
      "model = make_pipeline(StandardScaler(with_mean=False), Lasso())\n",
      "\n",
      "If you wish to pass a sample_weight parameter, you need to pass it as a fit parameter to each step of the pipeline as follows:\n",
      "\n",
      "kwargs = {s[0] + '__sample_weight': sample_weight for s in model.steps}\n",
      "model.fit(X, y, **kwargs)\n",
      "\n",
      "Set parameter alpha to: original_alpha * np.sqrt(n_samples). \n",
      "  warnings.warn(\n"
     ]
    }
   ],
   "source": [
    "# Creating a new model with the optimal alpha\n",
    "lr_tuned_multiomics = linear_model.Lasso(alpha = 0.5, normalize = True)\n",
    "lr_tuned_multiomics.fit(X_train, y_train) # Model fitting using the training set\n",
    "y_lr_tuned_pred = lr_tuned_multiomics.predict(X_test) # Model prediction using the test set\n",
    "\n",
    "print(\"MSE: \\n\", metrics.mean_squared_error(y_test, y_lr_tuned_pred))\n",
    "print(\"RMSE: \\n\", np.sqrt(metrics.mean_squared_error(y_test, y_lr_tuned_pred)))\n",
    "print(\"The target set is given by: \\n\", y_test)\n",
    "print(\"The prediction is given by: \\n\", y_lr_tuned_pred.round(0))"
   ]
  },
  {
   "cell_type": "code",
   "execution_count": 24,
   "id": "823d1301",
   "metadata": {},
   "outputs": [
    {
     "data": {
      "image/png": "[encoded data removed]",
      "text/plain": [
       "<Figure size 640x480 with 1 Axes>"
      ]
     },
     "metadata": {},
     "output_type": "display_data"
    }
   ],
   "source": [
    "# Plot of the observed and predicted values of gestational age\n",
    "\n",
    "x_ax = range(len(X_test))\n",
    "plt.plot(x_ax, y_test, lw = 0.5, color = 'blue', label = 'Observed')\n",
    "plt.plot(x_ax, y_lr_tuned_pred, lw = 0.5, color = 'red', label = 'Predicted')\n",
    "plt.legend(loc='best')\n",
    "plt.grid()"
   ]
  },
  {
   "cell_type": "markdown",
   "id": "b3ba2d27",
   "metadata": {},
   "source": [
    "## Remark\n",
    "To evaluate the models, you can consider using a suitable measure such as mean absolute error (MAE) or root mean squared error (RMSE). These metrics provide insights into the average difference or deviation between the predicted gestational age and the actual gestational age."
   ]
  },
  {
   "cell_type": "code",
   "execution_count": null,
   "id": "97f8d02c",
   "metadata": {},
   "outputs": [],
   "source": []
  }
 ],
 "metadata": {
  "kernelspec": {
   "display_name": "Python 3 (ipykernel)",
   "language": "python",
   "name": "python3"
  },
  "language_info": {
   "codemirror_mode": {
    "name": "ipython",
    "version": 3
   },
   "file_extension": ".py",
   "mimetype": "text/x-python",
   "name": "python",
   "nbconvert_exporter": "python",
   "pygments_lexer": "ipython3",
   "version": "3.10.9"
  }
 },
 "nbformat": 4,
 "nbformat_minor": 5
}
